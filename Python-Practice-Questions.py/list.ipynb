{
 "cells": [
  {
   "cell_type": "markdown",
   "id": "2aa5c728",
   "metadata": {},
   "source": [
    "1: Creating and Accessing Lists:\n",
    "\n",
    "Create a list of the first 20 positive integers. Print the list."
   ]
  },
  {
   "cell_type": "code",
   "execution_count": null,
   "id": "f94e5426",
   "metadata": {},
   "outputs": [],
   "source": [
    "lst = list(range(1, 21))\n",
    "print(lst)"
   ]
  },
  {
   "cell_type": "markdown",
   "id": "e1f3207c",
   "metadata": {},
   "source": [
    "2: Accessing List Elements\n",
    "\n",
    "Print the first, middle, and last elements of the list created in Assignment 1."
   ]
  },
  {
   "cell_type": "code",
   "execution_count": null,
   "id": "762fac45",
   "metadata": {},
   "outputs": [],
   "source": [
    "print(f\"The first element of the list is {lst[0]}\")\n",
    "print(f\"The middle element of the list is {lst[len(lst) // 2]}\")\n",
    "print(f\"The last element of the list is {lst[-1]}\")"
   ]
  },
  {
   "cell_type": "markdown",
   "id": "85716663",
   "metadata": {},
   "source": [
    "3: List Slicing\n",
    "\n",
    "Print the first five elements, the last five elements, and the elements from index 5 to 15 of the list created in Assignment 1."
   ]
  },
  {
   "cell_type": "code",
   "execution_count": null,
   "id": "d929071b",
   "metadata": {},
   "outputs": [],
   "source": [
    "print(f\"The first five elements are {lst[:5]}\")\n",
    "print(f\"The last five elements are {lst[-5:]}\")\n",
    "print(f\"the elements from index 5 to 15 of the list {lst[5:16]}\")"
   ]
  },
  {
   "cell_type": "markdown",
   "id": "a2150b7e",
   "metadata": {},
   "source": [
    "4: List Comprehensions\n",
    "\n",
    "Create a new list containing the squares of the first 10 positive integers using a list comprehension. Print the new list."
   ]
  },
  {
   "cell_type": "code",
   "execution_count": null,
   "id": "f2e0f6e1",
   "metadata": {},
   "outputs": [],
   "source": [
    "square = [num**2 for num in range(10)]\n",
    "print(square)"
   ]
  },
  {
   "cell_type": "markdown",
   "id": "00195361",
   "metadata": {},
   "source": [
    "5: Filtering Lists\n",
    "\n",
    "Create a new list containing only the even numbers from the list created in Assignment 1 using a list comprehension. Print the new list."
   ]
  },
  {
   "cell_type": "code",
   "execution_count": null,
   "id": "ff45b267",
   "metadata": {},
   "outputs": [],
   "source": [
    "even_num = [x for x in lst if x%2 == 0]\n",
    "print(even_num)"
   ]
  },
  {
   "cell_type": "markdown",
   "id": "837bc739",
   "metadata": {},
   "source": [
    "6: List Methods\n",
    "\n",
    "Create a list of random numbers and sort it in ascending and descending order. Remove the duplicates from the list and print the modified list."
   ]
  },
  {
   "cell_type": "code",
   "execution_count": null,
   "id": "2437cc4a",
   "metadata": {},
   "outputs": [],
   "source": [
    "number = [2,3,4,1,5,7,8,6]\n",
    "print(f\"original list {number}\")\n",
    "\n",
    "# Ascending oreder\n",
    "number.sort()\n",
    "print(f\"Ascending order {number}\")\n",
    "\n",
    "# Descending oreder\n",
    "number.sort(reverse=True)\n",
    "print(f\"Descending Oredr {number}\")\n",
    "\n",
    "# Remove duplicates\n",
    "number = list(set(number))\n",
    "print(f\"Without duplicate {number}\")\n",
    "\n"
   ]
  },
  {
   "cell_type": "markdown",
   "id": "04d7e83a",
   "metadata": {},
   "source": [
    "7: Nested Lists\n",
    "\n",
    "Create a nested list representing a 3x3 matrix and print the matrix. Access and print the element at the second row and third column."
   ]
  },
  {
   "cell_type": "code",
   "execution_count": null,
   "id": "bde39f27",
   "metadata": {},
   "outputs": [],
   "source": [
    "matrix = [\n",
    "    [1,2,3],\n",
    "    [4,5,6],\n",
    "    [7,8,9]\n",
    "]\n",
    "print(\"Matrix:\")\n",
    "for row in matrix:\n",
    "    print(row)\n",
    "print(f\"Element at the second and third row {matrix[1][2]}\")"
   ]
  },
  {
   "cell_type": "markdown",
   "id": "e91e5ca2",
   "metadata": {},
   "source": [
    "8: List of Dictionaries\n",
    "\n",
    "Create a list of dictionaries where each dictionary represents a student with keys 'name' and 'score'. Sort the list of dictionaries by the 'score' in descending order and print the sorted list."
   ]
  },
  {
   "cell_type": "code",
   "execution_count": null,
   "id": "bcf6e15f",
   "metadata": {},
   "outputs": [],
   "source": [
    "students= [\n",
    "    {'name': 'Alice', 'score': 88},\n",
    "    {'name': 'Bob', 'score': 72},\n",
    "    {'name': 'Charlie', 'score': 95},\n",
    "    {'name': 'David', 'score': 65},\n",
    "    {'name': 'Eve', 'score': 78}\n",
    "]\n",
    "\n",
    "students.sort(key=lambda x:x ['score'], reverse=True)\n",
    "print(students)\n"
   ]
  },
  {
   "cell_type": "markdown",
   "id": "52f3aeac",
   "metadata": {},
   "source": [
    "9: Matrix Transposition\n",
    "\n",
    "Write a function that takes a 3x3 matrix (nested list) as input and returns its transpose. Print the original and transposed matrices."
   ]
  },
  {
   "cell_type": "code",
   "execution_count": null,
   "id": "c48acdce",
   "metadata": {},
   "outputs": [],
   "source": [
    "def transpose_matrix(matrix):\n",
    "    transposed = [[matrix[j][i] for j in range(len(matrix))] for i in range(len(matrix[0]))]\n",
    "    return transposed\n",
    "\n",
    "matrix = [\n",
    "    [1,2,3],\n",
    "    [4,5,6],\n",
    "    [7,8,9]\n",
    "]\n",
    "transposed = transpose_matrix(matrix)\n",
    "print(\"original matrix:\")\n",
    "for row in matrix:\n",
    "    print(row)\n",
    "    \n",
    "print(\"Transpose matrix\")\n",
    "for row in transposed:\n",
    "    print(row)\n",
    "\n"
   ]
  },
  {
   "cell_type": "markdown",
   "id": "6eaf8175",
   "metadata": {},
   "source": [
    "10: Flattening a Nested List\n",
    "\n",
    "Write a function that takes a nested list and flattens it into a single list. Print the original and flattened lists."
   ]
  },
  {
   "cell_type": "code",
   "execution_count": null,
   "id": "42d84c43",
   "metadata": {},
   "outputs": [],
   "source": [
    "def flatten_list(nested_list):\n",
    "    flat_list = [item for sublist in nested_list for item in sublist]\n",
    "    return flat_list\n",
    "\n",
    "nested_list = [\n",
    "    [1,2,3],\n",
    "    [4,5,6],\n",
    "    [7,8,9]\n",
    "]\n",
    "\n",
    "flattened = flatten_list(nested_list)\n",
    "print(\"Original nested list: \")\n",
    "print(nested_list)\n",
    "print(\"Flattent list: \")\n",
    "print(flattened)"
   ]
  },
  {
   "cell_type": "markdown",
   "id": "4a80829f",
   "metadata": {},
   "source": [
    "11: List Manipulation\n",
    "\n",
    "Create a list of the first 10 positive integers. Remove the elements at indices 2, 4, and 6, and insert the element '99' at index 5. Print the modified list.\n"
   ]
  },
  {
   "cell_type": "code",
   "execution_count": null,
   "id": "45111fb4",
   "metadata": {},
   "outputs": [],
   "source": [
    "lst = list(range(1,11))\n",
    "print(lst)\n",
    "del lst[2]\n",
    "del lst[4]\n",
    "del lst[6]\n",
    "lst.insert(5,99)\n",
    "print(f\"Modified list {lst}\")"
   ]
  },
  {
   "cell_type": "markdown",
   "id": "1cab9bb7",
   "metadata": {},
   "source": [
    "12: List Zipping\n",
    "\n",
    "Create two lists of the same length. Use the `zip` function to combine these lists into a list of tuples and print the result."
   ]
  },
  {
   "cell_type": "code",
   "execution_count": null,
   "id": "043664df",
   "metadata": {},
   "outputs": [],
   "source": [
    "lst1 = [1,2,3,4]\n",
    "lst2 = ['a','b','c','d']\n",
    "zipped = list(zip(lst1,lst2))\n",
    "print(zipped)"
   ]
  },
  {
   "cell_type": "markdown",
   "id": "44c12838",
   "metadata": {},
   "source": [
    "13: List Reversal\n",
    "\n",
    "Write a function that takes a list and returns a new list with the elements in reverse order. Print the original and reversed lists.\n"
   ]
  },
  {
   "cell_type": "code",
   "execution_count": null,
   "id": "f0b95907",
   "metadata": {},
   "outputs": [],
   "source": [
    "def reverse_list(lst):\n",
    "    return lst[::-1]\n",
    "\n",
    "lst = [1,2,3,4,5]\n",
    "reverse = reverse_list(lst)\n",
    "print(f\"Original list {lst}\")\n",
    "print(f\"Reversed list {reverse}\")"
   ]
  },
  {
   "cell_type": "markdown",
   "id": "45f1a1ba",
   "metadata": {},
   "source": [
    "14: List Rotation\n",
    "\n",
    "Write a function that rotates a list by n positions. Print the original and rotated lists."
   ]
  },
  {
   "cell_type": "code",
   "execution_count": null,
   "id": "dcfd6124",
   "metadata": {},
   "outputs": [],
   "source": [
    "def rotate_list(lst,n):\n",
    "    return lst[n:] + lst[:n]\n",
    "\n",
    "original_list = [1,2,3,4,5]\n",
    "rotated_list = rotate_list(original_list,2)\n",
    "print(\"Original list: \")\n",
    "print(original_list)\n",
    "print(\"Rotated list\")\n",
    "print(rotated_list)"
   ]
  },
  {
   "cell_type": "markdown",
   "id": "57348b83",
   "metadata": {},
   "source": [
    "15: List Intersection\n",
    "\n",
    "Write a function that takes two lists and returns a new list containing only the elements that are present in both lists. Print the intersected list."
   ]
  },
  {
   "cell_type": "code",
   "execution_count": 41,
   "id": "75916af7",
   "metadata": {},
   "outputs": [
    {
     "name": "stdout",
     "output_type": "stream",
     "text": [
      "List 1 [1, 2, 3, 4, 5]\n",
      "List 2 [3, 4, 5, 67, 8]\n",
      "Intersection [3, 4, 5]\n"
     ]
    }
   ],
   "source": [
    "def intersect(lst1,lst2):\n",
    "    return [x for x in lst1 if x in lst2]\n",
    "\n",
    "lst1 = [1,2,3,4,5]\n",
    "lst2 = [3,4,5,67,8]\n",
    "intersected = intersect(lst1,lst2)\n",
    "print(f\"List 1 {lst1}\")\n",
    "print(f\"List 2 {lst2}\")\n",
    "print(f\"Intersection {intersected}\") "
   ]
  },
  {
   "cell_type": "code",
   "execution_count": null,
   "id": "5b0eb974",
   "metadata": {},
   "outputs": [],
   "source": []
  }
 ],
 "metadata": {
  "kernelspec": {
   "display_name": "venv",
   "language": "python",
   "name": "python3"
  },
  "language_info": {
   "codemirror_mode": {
    "name": "ipython",
    "version": 3
   },
   "file_extension": ".py",
   "mimetype": "text/x-python",
   "name": "python",
   "nbconvert_exporter": "python",
   "pygments_lexer": "ipython3",
   "version": "3.12.0"
  }
 },
 "nbformat": 4,
 "nbformat_minor": 5
}
