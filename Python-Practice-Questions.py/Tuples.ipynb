{
 "cells": [
  {
   "cell_type": "markdown",
   "id": "d05d97cc",
   "metadata": {},
   "source": [
    "1: Creating and Accessing Tuples\n",
    "\n",
    "Create a tuple with the first 10 positive integers. Print the tuple."
   ]
  },
  {
   "cell_type": "code",
   "execution_count": null,
   "id": "400b0dcb",
   "metadata": {},
   "outputs": [],
   "source": [
    "tup = tuple(range(1,11))\n",
    "print(tup)"
   ]
  },
  {
   "cell_type": "markdown",
   "id": "b186a521",
   "metadata": {},
   "source": [
    "2: Accessing Tuple Elements\n",
    "\n",
    "Print the first, middle, and last elements of the tuple created in Assignment 1."
   ]
  },
  {
   "cell_type": "code",
   "execution_count": null,
   "id": "69cd3394",
   "metadata": {},
   "outputs": [],
   "source": [
    "print(f\"The first element of the tuple {tup[0]}\")\n",
    "print(f\"The second middle element of the tuple {tup[(len(tup) // 2)]}\")\n",
    "print(f\"The last element of the tuple {tup[-1]}\")"
   ]
  },
  {
   "cell_type": "markdown",
   "id": "6bf2ed79",
   "metadata": {},
   "source": [
    "3: Tuple Slicing\n",
    "\n",
    "Print the first three elements, the last three elements, and the elements from index 2 to 5 of the tuple created in Assignment 1."
   ]
  },
  {
   "cell_type": "code",
   "execution_count": null,
   "id": "9a7b0e16",
   "metadata": {},
   "outputs": [],
   "source": [
    "print(f\"The first three elements are {tup[:3]} \")\n",
    "print(f\"The last three elements are {tup[-3:]}\")\n",
    "print(f\"The elements from index 2 to 5 are {tup[2:6]}\")"
   ]
  },
  {
   "cell_type": "markdown",
   "id": "ec765d37",
   "metadata": {},
   "source": [
    " 4: Nested Tuples\n",
    "\n",
    "Create a nested tuple representing a 3x3 matrix and print the matrix. Access and print the element at the second row and third column."
   ]
  },
  {
   "cell_type": "code",
   "execution_count": null,
   "id": "b62a8d8a",
   "metadata": {},
   "outputs": [],
   "source": [
    "matrix = (\n",
    "    (1,2,3),\n",
    "    (4,5,6),\n",
    "    (7,8,9)\n",
    ")\n",
    "\n",
    "print(\"Matrix:\")\n",
    "for row in matrix:\n",
    "    print(row)\n",
    "\n",
    "print(f\"element at the second row and third column is {matrix[1][2]}\")"
   ]
  },
  {
   "cell_type": "markdown",
   "id": "2006f133",
   "metadata": {},
   "source": [
    "5: Tuple Concatenation\n",
    "\n",
    "Concatenate two tuples: (1, 2, 3) and (4, 5, 6). Print the resulting tuple.\n"
   ]
  },
  {
   "cell_type": "code",
   "execution_count": null,
   "id": "a4d9c13f",
   "metadata": {},
   "outputs": [],
   "source": [
    "tup1 = (1,2,3)\n",
    "tup2 = (4,5,6)\n",
    "print(tup1 + tup2)"
   ]
  },
  {
   "cell_type": "markdown",
   "id": "3da45310",
   "metadata": {},
   "source": [
    "6: Tuple Methods\n",
    "\n",
    "Create a tuple with duplicate elements and count the occurrences of an element. Find the index of the first occurrence of an element in the tuple."
   ]
  },
  {
   "cell_type": "code",
   "execution_count": null,
   "id": "88d1d3b7",
   "metadata": {},
   "outputs": [],
   "source": [
    "tup = (1,2,3,1,)\n",
    "print(\"Occurance of the element are \", tup.count(1))\n",
    "print(\"First occurance of an element in the tuple is \", tup.index(1))"
   ]
  },
  {
   "cell_type": "markdown",
   "id": "657e7479",
   "metadata": {},
   "source": [
    " 7: Unpacking Tuples\n",
    "\n",
    "Create a tuple with 5 elements and unpack it into 5 variables. Print the variables."
   ]
  },
  {
   "cell_type": "code",
   "execution_count": null,
   "id": "2c06a041",
   "metadata": {},
   "outputs": [],
   "source": [
    "tup = (1,2,3,4,5)\n",
    "a,b,c,d,e = tup\n",
    "print(a,b,c,d,e)"
   ]
  },
  {
   "cell_type": "markdown",
   "id": "cbaaeced",
   "metadata": {},
   "source": [
    "8: Tuple Conversion\n",
    "\n",
    "Convert a list of the first 5 positive integers to a tuple. Print the tuple."
   ]
  },
  {
   "cell_type": "code",
   "execution_count": null,
   "id": "fa94af78",
   "metadata": {},
   "outputs": [],
   "source": [
    "lst = [1,2,3,4,5]\n",
    "tup = tuple(lst)\n",
    "print(tup)\n",
    "print(type(lst))"
   ]
  },
  {
   "cell_type": "markdown",
   "id": "91005eae",
   "metadata": {},
   "source": [
    " 9: Tuple of Tuples\n",
    "\n",
    "Create a tuple containing 3 tuples, each with 3 elements. Print the tuple of tuples."
   ]
  },
  {
   "cell_type": "code",
   "execution_count": null,
   "id": "87d6b1d9",
   "metadata": {},
   "outputs": [],
   "source": [
    "tpl_of_tpl = (\n",
    "    (1,2,3),\n",
    "    (4,5,6),\n",
    "    (7,8,9)\n",
    ")\n",
    "print(tpl_of_tpl)"
   ]
  },
  {
   "cell_type": "markdown",
   "id": "0b357417",
   "metadata": {},
   "source": [
    "10: Tuple and List\n",
    "\n",
    "Create a tuple with the first 5 positive integers. Convert it to a list, append the number 6, and convert it back to a tuple. Print the resulting tuple.\n"
   ]
  },
  {
   "cell_type": "code",
   "execution_count": null,
   "id": "3f3af8a1",
   "metadata": {},
   "outputs": [],
   "source": [
    "tup = (1,2,3,4,5)\n",
    "lst = list(tup)\n",
    "lst.append(6)\n",
    "tup = tuple(lst)\n",
    "print(tup)"
   ]
  },
  {
   "cell_type": "markdown",
   "id": "bd83e2e9",
   "metadata": {},
   "source": [
    "11: Tuple and String\n",
    "\n",
    "Create a tuple with the characters of a string. Join the tuple elements into a single string. Print the string.\n"
   ]
  },
  {
   "cell_type": "code",
   "execution_count": null,
   "id": "9c86970d",
   "metadata": {},
   "outputs": [],
   "source": [
    "str = \"hello\"\n",
    "tup = tuple(str)\n",
    "joined_string = \"\".join(tup)\n",
    "print(joined_string)"
   ]
  },
  {
   "cell_type": "markdown",
   "id": "0e35d911",
   "metadata": {},
   "source": [
    "12: Tuple and Dictionary\n",
    "\n",
    "Create a dictionary with tuple keys and integer values. Print the dictionary."
   ]
  },
  {
   "cell_type": "code",
   "execution_count": null,
   "id": "fe8d027f",
   "metadata": {},
   "outputs": [],
   "source": [
    "dict = {\n",
    "    (1,2): 3,\n",
    "    (4,5): 6,\n",
    "    (7,8): 9\n",
    "}\n",
    "print(dict)"
   ]
  },
  {
   "cell_type": "markdown",
   "id": "86d21cf5",
   "metadata": {},
   "source": [
    "13: Nested Tuple Iteration\n",
    "\n",
    "Create a nested tuple and iterate over the elements, printing each element.\n"
   ]
  },
  {
   "cell_type": "code",
   "execution_count": null,
   "id": "3421aa5a",
   "metadata": {},
   "outputs": [],
   "source": [
    "nested_tuple = (\n",
    "    (1,2,3),\n",
    "    (4,5,6),\n",
    "    (7,8,9)\n",
    ")\n",
    "\n",
    "for subtuple in nested_tuple:\n",
    "    for items in subtuple:\n",
    "        print(items)\n",
    "    "
   ]
  },
  {
   "cell_type": "markdown",
   "id": "aeec1729",
   "metadata": {},
   "source": [
    "14: Tuple and Set\n",
    "\n",
    "Create a tuple with duplicate elements. Convert it to a set to remove duplicates and print the resulting set."
   ]
  },
  {
   "cell_type": "code",
   "execution_count": null,
   "id": "0d6501fe",
   "metadata": {},
   "outputs": [],
   "source": [
    "tup = (1,2,3,4,2,5,1)\n",
    "set_value = set(tup)\n",
    "print(set_value)"
   ]
  },
  {
   "cell_type": "markdown",
   "id": "14d2be00",
   "metadata": {},
   "source": [
    "15: Tuple Functions\n",
    "\n",
    "Write functions that take a tuple and return the minimum, maximum, and sum of the elements. Print the results for a sample tuple."
   ]
  },
  {
   "cell_type": "code",
   "execution_count": null,
   "id": "b711aa9d",
   "metadata": {},
   "outputs": [],
   "source": [
    "def min_in_tuple(tpl):\n",
    "    return min(tpl)\n",
    "\n",
    "def max_in_tuple(tpl):\n",
    "    return max(tpl)\n",
    "\n",
    "def sum_of_tuple(tpl):\n",
    "    return sum(tpl)\n",
    "\n",
    "sample_tuple = (1,2,3,4,5)\n",
    "print(f\"The minimun value of the tuple is {min_in_tuple(sample_tuple)}\")\n",
    "print(f\"The maximun value of the tuple is {max_in_tuple(sample_tuple)}\")\n",
    "print(f\"The sum of the tuple is {sum_of_tuple(sample_tuple)}\")"
   ]
  },
  {
   "cell_type": "code",
   "execution_count": null,
   "id": "45c18a56",
   "metadata": {},
   "outputs": [],
   "source": []
  }
 ],
 "metadata": {
  "kernelspec": {
   "display_name": "venv",
   "language": "python",
   "name": "python3"
  },
  "language_info": {
   "codemirror_mode": {
    "name": "ipython",
    "version": 3
   },
   "file_extension": ".py",
   "mimetype": "text/x-python",
   "name": "python",
   "nbconvert_exporter": "python",
   "pygments_lexer": "ipython3",
   "version": "3.12.0"
  }
 },
 "nbformat": 4,
 "nbformat_minor": 5
}
