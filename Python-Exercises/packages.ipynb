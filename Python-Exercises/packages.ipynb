{
 "cells": [
  {
   "cell_type": "markdown",
   "id": "8089f3a8",
   "metadata": {},
   "source": [
    "5.1: Importing Modules"
   ]
  },
  {
   "cell_type": "markdown",
   "id": "a556d5a3",
   "metadata": {},
   "source": [
    "1: Importing and Using Modules\n",
    "\n",
    "Import the `math` module and use it to calculate the square root of 25 and the sine of 90 degrees."
   ]
  },
  {
   "cell_type": "code",
   "execution_count": null,
   "id": "82c4a150",
   "metadata": {},
   "outputs": [],
   "source": [
    "from math import *\n",
    "\n",
    "print(sqrt(25))\n",
    "print(sin(90))"
   ]
  },
  {
   "cell_type": "markdown",
   "id": "0727086c",
   "metadata": {},
   "source": [
    "2: Aliasing Modules\n",
    "\n",
    "Import the `datetime` module with an alias and use it to print the current date and time.\n"
   ]
  },
  {
   "cell_type": "code",
   "execution_count": null,
   "id": "28c9decc",
   "metadata": {},
   "outputs": [],
   "source": [
    "import datetime as dt\n",
    "\n",
    "now = dt.datetime.now()\n",
    "print(now)"
   ]
  },
  {
   "cell_type": "markdown",
   "id": "0075de02",
   "metadata": {},
   "source": [
    "3: Importing Specific Functions\n",
    "\n",
    "Import the `randint` function from the `random` module and use it to generate a random integer between 1 and 100."
   ]
  },
  {
   "cell_type": "code",
   "execution_count": null,
   "id": "8cac5b77",
   "metadata": {},
   "outputs": [],
   "source": [
    "import random\n",
    "\n",
    "print(random.randint(1,100))"
   ]
  },
  {
   "cell_type": "markdown",
   "id": "905a3036",
   "metadata": {},
   "source": [
    "4: Importing Multiple Functions\n",
    "\n",
    "Import the `sqrt` and `pow` functions from the `math` module and use them to calculate the square root of 16 and 2 raised to the power of 3."
   ]
  },
  {
   "cell_type": "code",
   "execution_count": null,
   "id": "1f5c9d19",
   "metadata": {},
   "outputs": [],
   "source": [
    "from math import *\n",
    "\n",
    "print(sqrt(16))\n",
    "print(pow(3,3))"
   ]
  },
  {
   "cell_type": "markdown",
   "id": "9dac5cac",
   "metadata": {},
   "source": [
    "5: Handling Import Errors\n",
    "\n",
    "Write code that attempts to import a non-existent module and gracefully handles the import error by printing an error message.\n"
   ]
  },
  {
   "cell_type": "code",
   "execution_count": null,
   "id": "ade93cc5",
   "metadata": {},
   "outputs": [],
   "source": [
    "try:\n",
    "    import non_existent_module\n",
    "except ImportError as e:\n",
    "    print(f\"Invalid module error {e}\")"
   ]
  },
  {
   "cell_type": "markdown",
   "id": "0e261271",
   "metadata": {},
   "source": [
    "5.2: Standard Library Overview"
   ]
  },
  {
   "cell_type": "markdown",
   "id": "bf18f8c7",
   "metadata": {},
   "source": [
    "6: Working with the `os` Module\n",
    "\n",
    "Use the `os` module to create a new directory, list the contents of the current directory, and remove the newly created directory.\n"
   ]
  },
  {
   "cell_type": "code",
   "execution_count": null,
   "id": "eb36cb01",
   "metadata": {},
   "outputs": [],
   "source": [
    "import os\n",
    "\n",
    "# creating new directory\n",
    "os.makedirs('new_dir')\n",
    "\n",
    "# Listing the content of the directory\n",
    "os.listdir('.')\n",
    "\n",
    "# removing newly created directory\n",
    "os.rmdir('new_dir')\n",
    "print(os.listdir('.'))"
   ]
  },
  {
   "cell_type": "markdown",
   "id": "9b23ad7f",
   "metadata": {},
   "source": [
    "7: Working with the `sys` Module\n",
    "\n",
    "Use the `sys` module to print the Python version currently in use and the command-line arguments passed to the script.\n"
   ]
  },
  {
   "cell_type": "code",
   "execution_count": null,
   "id": "0a382851",
   "metadata": {},
   "outputs": [],
   "source": [
    "import sys\n",
    "\n",
    "print(f\"current python version is {sys.version}\")\n",
    "print(f\"Command-line argument {sys.argv}\")"
   ]
  },
  {
   "cell_type": "markdown",
   "id": "96cd12ce",
   "metadata": {},
   "source": [
    " 8: Working with the `math` Module\n",
    "\n",
    "Use the `math` module to calculate the greatest common divisor (GCD) of two numbers and the factorial of a number."
   ]
  },
  {
   "cell_type": "code",
   "execution_count": null,
   "id": "4d7cf88d",
   "metadata": {},
   "outputs": [],
   "source": [
    "from math import *\n",
    "\n",
    "print(gcd(23,42))\n",
    "print(factorial(10))"
   ]
  },
  {
   "cell_type": "markdown",
   "id": "4470a9d1",
   "metadata": {},
   "source": [
    " 9: Working with the `datetime` Module\n",
    "\n",
    "Use the `datetime` module to print the current date, calculate the date 100 days from today, and determine the day of the week for a given date.\n",
    "\n",
    "--> Use datetime.date.today() if you only want date (year, month, day).\n",
    "\n",
    "--> Use datetime.datetime.now() if you want date + time."
   ]
  },
  {
   "cell_type": "code",
   "execution_count": null,
   "id": "3b8c8b9f",
   "metadata": {},
   "outputs": [],
   "source": [
    "import datetime\n",
    "\n",
    "now = datetime.date.today()\n",
    "print(f\"Current time is {now}\")\n",
    "\n",
    "future_date = now + datetime.timedelta(days = 100)\n",
    "print(f'future date is {future_date}')\n",
    "\n",
    "given_date = datetime.datetime(2025,12,3)\n",
    "print(f\"Day of the week for 2025-12-03 is {given_date.strftime('%A')}\")\n"
   ]
  },
  {
   "cell_type": "markdown",
   "id": "f9ac856d",
   "metadata": {},
   "source": [
    " 10: Working with the `random` Module\n",
    "\n",
    "Use the `random` module to generate a list of 5 random numbers between 1 and 50 and shuffle the elements of a list."
   ]
  },
  {
   "cell_type": "code",
   "execution_count": null,
   "id": "b6f009ee",
   "metadata": {},
   "outputs": [],
   "source": [
    "import random\n",
    "\n",
    "random_numbers = [random.randint(1,50) for _ in range(5)]\n",
    "print(random_numbers)\n",
    "\n",
    "lst = [1,2,3,4,5]\n",
    "random.shuffle(lst)\n",
    "print(lst)"
   ]
  },
  {
   "cell_type": "markdown",
   "id": "c83905a6",
   "metadata": {},
   "source": [
    "5.3: Creating and Using Packages\n"
   ]
  },
  {
   "cell_type": "markdown",
   "id": "e90cef0f",
   "metadata": {},
   "source": [
    "11: Creating a Simple Package\n",
    "\n",
    "Create a package named `mypackage` with two modules: `module1` and `module2`. `module1` should contain a function that adds two numbers, and `module2` should contain a function that multiplies two numbers. Write code to use these functions.\n"
   ]
  },
  {
   "cell_type": "code",
   "execution_count": null,
   "id": "da7189c7",
   "metadata": {},
   "outputs": [],
   "source": [
    "# File structure:\n",
    "# mypackage/\n",
    "#   __init__.py\n",
    "#   module1.py\n",
    "#   module2.py\n",
    "\n",
    "# Content of module1.py\n",
    "# def add(a, b):\n",
    "#     return a + b\n",
    "\n",
    "# Content of module2.py\n",
    "# def multiply(a, b):\n",
    "#     return a * b\n",
    "\n",
    "# Using the package\n",
    "from mypackage import module1, module2\n",
    "\n",
    "print(module1.add(2, 3))  # 5\n",
    "print(module2.multiply(2, 3))  # 6"
   ]
  },
  {
   "cell_type": "markdown",
   "id": "3bf57cfc",
   "metadata": {},
   "source": [
    " 12: Using `__init__.py`\n",
    "\n",
    "Modify the `mypackage` package to include an `__init__.py` file that imports the functions from `module1` and `module2`. Write code to use these functions."
   ]
  },
  {
   "cell_type": "code",
   "execution_count": null,
   "id": "65581080",
   "metadata": {},
   "outputs": [],
   "source": [
    "# Content of __init__.py\n",
    "# from .module1 import add\n",
    "# from .module2 import multiply\n",
    "\n",
    "# Using the package\n",
    "from mypackage import add, multiply\n",
    "\n",
    "print(add(2, 3))  # 5\n",
    "print(multiply(2, 3))  # 6"
   ]
  },
  {
   "cell_type": "code",
   "execution_count": null,
   "id": "7872d7b9",
   "metadata": {},
   "outputs": [],
   "source": []
  },
  {
   "cell_type": "markdown",
   "id": "70443510",
   "metadata": {},
   "source": [
    "13: Importing from a Package\n",
    "\n",
    "Write code to import and use the functions from `mypackage` without explicitly importing `module1` and `module2`.\n"
   ]
  },
  {
   "cell_type": "code",
   "execution_count": null,
   "id": "2812aef0",
   "metadata": {},
   "outputs": [],
   "source": [
    "from mypackage.module1 import add\n",
    "from mypackage.module2 import multi\n",
    "\n",
    "print(add(2,3))\n",
    "print(multi(2,3))"
   ]
  },
  {
   "cell_type": "markdown",
   "id": "cc66d29b",
   "metadata": {},
   "source": [
    "14: Relative Imports\n",
    "\n",
    "Create a subpackage named `subpackage` within `mypackage` and move `module2` into `subpackage`. Modify the import statements in `__init__.py` to use relative imports. Write code to use the functions from both modules.\n"
   ]
  },
  {
   "cell_type": "markdown",
   "id": "51207e9c",
   "metadata": {},
   "source": [
    "from mypackage.module1 import add\n",
    "from mypackage.subpackage.module2 import multi\n",
    "\n",
    "print(add(2,3))\n",
    "print(multi(2,3))"
   ]
  },
  {
   "cell_type": "markdown",
   "id": "c0e025be",
   "metadata": {},
   "source": [
    "15: Handling Package Import Errors\n",
    "\n",
    "Write code that attempts to import a non-existent function from `mypackage` and gracefully handles the import error by printing an error message."
   ]
  },
  {
   "cell_type": "markdown",
   "id": "c4686e39",
   "metadata": {},
   "source": [
    "try:\n",
    "    from mypackage import non_exixtent_function\n",
    "except ImportError as e:\n",
    "    print(f\"Error importing function: {e}\")"
   ]
  }
 ],
 "metadata": {
  "kernelspec": {
   "display_name": "venv",
   "language": "python",
   "name": "python3"
  },
  "language_info": {
   "codemirror_mode": {
    "name": "ipython",
    "version": 3
   },
   "file_extension": ".py",
   "mimetype": "text/x-python",
   "name": "python",
   "nbconvert_exporter": "python",
   "pygments_lexer": "ipython3",
   "version": "3.12.0"
  }
 },
 "nbformat": 4,
 "nbformat_minor": 5
}
