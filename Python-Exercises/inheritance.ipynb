{
 "cells": [
  {
   "cell_type": "markdown",
   "id": "9fb89373",
   "metadata": {},
   "source": [
    "1: Single Inheritance Basic\n",
    "\n",
    "Create a base class named `Animal` with attributes `name` and `species`. Create a derived class named `Dog` that inherits from `Animal` and adds an attribute `breed`. Create an object of the `Dog` class and print its attributes.\n"
   ]
  },
  {
   "cell_type": "code",
   "execution_count": null,
   "id": "6544f0ed",
   "metadata": {},
   "outputs": [],
   "source": [
    "class Animal:\n",
    "    def __init__(self,name,species):\n",
    "        self.name = name\n",
    "        self.species = species\n",
    "        \n",
    "class Dog(Animal):\n",
    "    def __init__(self, name, species,breed):\n",
    "        super().__init__(name, species)\n",
    "        self.breed = breed\n",
    "        \n",
    "dog1 = Dog('rock','dog','Bulldog')\n",
    "print(dog1.name)\n",
    "print(dog1.breed)\n",
    "print(dog1.species)"
   ]
  },
  {
   "cell_type": "markdown",
   "id": "ddbb4330",
   "metadata": {},
   "source": [
    "2: Method Overriding in Single Inheritance\n",
    "\n",
    "In the `Dog` class, override the `__str__` method to return a string representation of the object. Create an object of the class and print it."
   ]
  },
  {
   "cell_type": "code",
   "execution_count": null,
   "id": "320b8dfe",
   "metadata": {},
   "outputs": [],
   "source": [
    "class Dog(Animal):\n",
    "    def __init__(self, name, species,breed):\n",
    "        super().__init__(name, species)\n",
    "        self.breed = breed\n",
    "        \n",
    "    def __str__(self):\n",
    "        return f'The name of the dog is {self.name}, species is {self.species} and, breed is {self.breed}'\n",
    "    \n",
    "dog2 = Dog('Ben','dog','germen-sheffered')\n",
    "print(dog2)"
   ]
  },
  {
   "cell_type": "markdown",
   "id": "3ae6445e",
   "metadata": {},
   "source": [
    "3: Single Inheritance with Additional Methods\n",
    "\n",
    "In the `Dog` class, add a method named `bark` that prints a barking sound. Create an object of the class and call the method."
   ]
  },
  {
   "cell_type": "code",
   "execution_count": null,
   "id": "5c2db808",
   "metadata": {},
   "outputs": [],
   "source": [
    "class Dog:\n",
    "    def __init__(self,name,age):\n",
    "        self.name = name\n",
    "        self.age = age\n",
    "        \n",
    "    def bark(self):\n",
    "        print(f'The {self.name} dog says woof')\n",
    "        \n",
    "dog = Dog('Tom', 25)\n",
    "print(dog.bark())"
   ]
  },
  {
   "cell_type": "markdown",
   "id": "3546fb3e",
   "metadata": {},
   "source": [
    "4: Multiple Inheritance Basic\n",
    "\n",
    "Create a base class named `Walker` with a method `walk` that prints a walking message. Create another base class named `Runner` with a method `run` that prints a running message. Create a derived class named `Athlete` that inherits from both `Walker` and `Runner`. Create an object of the `Athlete` class and call both methods."
   ]
  },
  {
   "cell_type": "code",
   "execution_count": null,
   "id": "5f1cceb3",
   "metadata": {},
   "outputs": [],
   "source": [
    "class Walker:\n",
    "    def walk(self):\n",
    "        return f'Time for walking'\n",
    "    \n",
    "class Runner:\n",
    "    def run(self):\n",
    "        return f'Time to run.'\n",
    "    \n",
    "class Athlete(Walker,Runner):\n",
    "    pass\n",
    "\n",
    "adam = Athlete()\n",
    "print(adam.walk())\n",
    "print(adam.run())"
   ]
  },
  {
   "cell_type": "markdown",
   "id": "6350a224",
   "metadata": {},
   "source": [
    "5: Method Resolution Order (MRO) in Multiple Inheritance\n",
    "\n",
    "In the `Athlete` class, override the `walk` method to print a different message. Create an object of the class and call the `walk` method. Use the `super()` function to call the `walk` method of the `Walker` class."
   ]
  },
  {
   "cell_type": "code",
   "execution_count": null,
   "id": "a1187b80",
   "metadata": {},
   "outputs": [],
   "source": [
    "class Athlete(Walker,Runner):\n",
    "    def walk(self):\n",
    "        print(\"let's do more rounds of walking.\")\n",
    "        super().walk()\n",
    "\n",
    "john = Athlete()\n",
    "john.walk()"
   ]
  },
  {
   "cell_type": "markdown",
   "id": "a673e489",
   "metadata": {},
   "source": [
    " 6: Multiple Inheritance with Additional Attributes\n",
    "\n",
    "In the `Athlete` class, add an attribute `training_hours` and a method `train` that prints the training hours. Create an object of the class and call the method."
   ]
  },
  {
   "cell_type": "code",
   "execution_count": null,
   "id": "09401800",
   "metadata": {},
   "outputs": [],
   "source": [
    "class Athlete(Walker,Runner):\n",
    "    def walk(self):\n",
    "        print(\"let's do more rounds of walking.\")\n",
    "        super().walk()\n",
    "        \n",
    "    def train(self,training_hours):\n",
    "        self.training_hours = training_hours\n",
    "        return f'training hrs is {self.training_hours}'\n",
    "    \n",
    "athlete = Athlete()\n",
    "print(athlete.train('4hrs'))\n",
    "        "
   ]
  },
  {
   "cell_type": "markdown",
   "id": "aa380fdf",
   "metadata": {},
   "source": [
    "7: Diamond Problem in Multiple Inheritance\n",
    "\n",
    "Create a class named `A` with a method `show` that prints a message. Create two derived classes `B` and `C` that inherit from `A` and override the `show` method. Create a class `D` that inherits from both `B` and `C`. Create an object of the `D` class and call the `show` method. Observe the method resolution order.\n"
   ]
  },
  {
   "cell_type": "code",
   "execution_count": null,
   "id": "da2c95f2",
   "metadata": {},
   "outputs": [],
   "source": [
    "class A:\n",
    "    def show(self):\n",
    "        print('This show method of class A')\n",
    "\n",
    "class B(A):\n",
    "    def show(self):\n",
    "        print('This is show method of class B')\n",
    "\n",
    "class C(A):\n",
    "    def show(self):\n",
    "        print('This is show metod of class C')\n",
    "\n",
    "class D(B,C):\n",
    "    pass\n",
    "\n",
    "d = D()\n",
    "d.show()\n",
    "print(d.show())"
   ]
  },
  {
   "cell_type": "markdown",
   "id": "38dba7af",
   "metadata": {},
   "source": [
    "8: Using `super()` in Single Inheritance\n",
    "\n",
    "Create a base class named `Shape` with an attribute `color`. Create a derived class named `Circle` that inherits from `Shape` and adds an attribute `radius`. Use the `super()` function to initialize the attributes. Create an object of the `Circle` class and print its attributes."
   ]
  },
  {
   "cell_type": "code",
   "execution_count": null,
   "id": "136727b5",
   "metadata": {},
   "outputs": [],
   "source": [
    "class Shape:\n",
    "    def __init__(self,color):\n",
    "        self.color = color\n",
    "        \n",
    "class Circle(Shape):\n",
    "    def __init__(self, color,radius):\n",
    "        super().__init__(color)\n",
    "        self.radius = radius\n",
    "        \n",
    "    # def __str__(self):\n",
    "    #     return f'The color of the circle is {self.color} and radius is {self.radius}'\n",
    "        \n",
    "circle = Circle('red',32)\n",
    "print(f'Color of the circle is {circle.color} and radius is {circle.radius}')\n",
    "print(circle)"
   ]
  },
  {
   "cell_type": "markdown",
   "id": "7a6c1ad6",
   "metadata": {},
   "source": [
    "9: Using `super()` in Multiple Inheritance\n",
    "\n",
    "Create a class named `Person` with an attribute `name`. Create a class named `Employee` with an attribute `employee_id`. Create a derived class `Manager` that inherits from both `Person` and `Employee`. Use the `super()` function to initialize the attributes. Create an object of the `Manager` class and print its attributes.\n"
   ]
  },
  {
   "cell_type": "code",
   "execution_count": null,
   "id": "01e008bf",
   "metadata": {},
   "outputs": [],
   "source": [
    "class Person:\n",
    "    def __init__(self,name):\n",
    "        self.name = name\n",
    "\n",
    "class Employee:\n",
    "    def __init__(self,employee_id):\n",
    "        self.employee_id = employee_id\n",
    "        \n",
    "class Manager(Person,Employee):\n",
    "    def __init__(self, name,employee_id):\n",
    "        super().__init__(name)\n",
    "        Employee.__init__(self,employee_id)\n",
    "        \n",
    "person1 = Manager('Aaditya',1234)\n",
    "print(f'The name  of the Employee is {person1.name} and id is {person1.employee_id}')\n",
    "        \n",
    "        "
   ]
  },
  {
   "cell_type": "markdown",
   "id": "94bcbaf8",
   "metadata": {},
   "source": [
    "10: Method Overriding and `super()`\n",
    "\n",
    "Create a class named `Vehicle` with a method `start` that prints a starting message. Create a derived class `Car` that overrides the `start` method to print a different message. Use the `super()` function to call the `start` method of the `Vehicle` class. Create an object of the `Car` class and call the `start` method."
   ]
  },
  {
   "cell_type": "code",
   "execution_count": null,
   "id": "f9f5fa5f",
   "metadata": {},
   "outputs": [],
   "source": [
    "class Vechile:\n",
    "    def start(self):\n",
    "        print('Engine start\\\\s')\n",
    "        \n",
    "class Car(Vechile):\n",
    "    def start(self):\n",
    "        print('Car engine start')\n",
    "        super().start\n",
    "        \n",
    "car = Car()\n",
    "car.start()\n",
    "        \n"
   ]
  },
  {
   "cell_type": "markdown",
   "id": "a9a97ced",
   "metadata": {},
   "source": [
    "11: Multiple Inheritance with Different Methods\n",
    "\n",
    "Create a class named `Flyer` with a method `fly` that prints a flying message. Create a class named `Swimmer` with a method `swim` that prints a swimming message. Create a derived class `Superhero` that inherits from both `Flyer` and `Swimmer`. Create an object of the `Superhero` class and call both methods.\n"
   ]
  },
  {
   "cell_type": "code",
   "execution_count": null,
   "id": "0f8f88e5",
   "metadata": {},
   "outputs": [],
   "source": [
    "class Flyer:\n",
    "    def fly(self):\n",
    "        print('I can fly')\n",
    "        \n",
    "class Swimmer:\n",
    "    def swim(self):\n",
    "        print(\"I a can swim\")\n",
    "        \n",
    "class Superhero(Flyer,Swimmer):\n",
    "    pass\n",
    "\n",
    "shero1 = Superhero()\n",
    "print(shero1.fly())\n",
    "print(shero1.swim())"
   ]
  },
  {
   "cell_type": "markdown",
   "id": "cbe7a674",
   "metadata": {},
   "source": [
    "12: Complex Multiple Inheritance\n",
    "\n",
    "Create a class named `Base1` with an attribute `a`. Create a class named `Base2` with an attribute `b`. Create a class named `Derived` that inherits from both `Base1` and `Base2` and adds an attribute `c`. Initialize all attributes using the `super()` function. Create an object of the `Derived` class and print its attributes."
   ]
  },
  {
   "cell_type": "code",
   "execution_count": null,
   "id": "d99c2b08",
   "metadata": {},
   "outputs": [],
   "source": [
    "class Base1:\n",
    "    def __init__(self,a):\n",
    "        self.a = a \n",
    "        \n",
    "class Base2:\n",
    "    def __init__(self,b):\n",
    "        self.b = b\n",
    "        \n",
    "class Derived(Base1,Base2):\n",
    "    def __init__(self,a,b,c):\n",
    "        super().__init__(a)\n",
    "        Base2.__init__(self,b)\n",
    "        self.c = c\n",
    "        \n",
    "derived = Derived(1,2,3)\n",
    "print(f'Attribut of a is {derived.a}, Attribute of b is {derived.b} and, attribute of c is {derived.c}')"
   ]
  },
  {
   "cell_type": "markdown",
   "id": "5d30af2b",
   "metadata": {},
   "source": [
    "13: Checking Instance Types with Inheritance\n",
    "\n",
    "Create a base class named `Animal` and a derived class named `Cat`. Create objects of both classes and use the `isinstance` function to check the instance types.\n"
   ]
  },
  {
   "cell_type": "code",
   "execution_count": null,
   "id": "d5e2f8e0",
   "metadata": {},
   "outputs": [],
   "source": [
    "class Animal:\n",
    "    pass\n",
    "\n",
    "class Cat(Animal):\n",
    "    pass\n",
    "\n",
    "cat = Cat()\n",
    "animal = Animal()\n",
    "print(isinstance(cat,Cat))\n",
    "print(isinstance(cat,Animal))\n",
    "print(isinstance(animal,Cat))\n"
   ]
  },
  {
   "cell_type": "markdown",
   "id": "36305e16",
   "metadata": {},
   "source": [
    "14: Polymorphism with Inheritance\n",
    "\n",
    "Create a base class named `Bird` with a method `speak`. Create two derived classes `Parrot` and `Penguin` that override the `speak` method. Create a list of `Bird` objects and call the `speak` method on each object to demonstrate polymorphism."
   ]
  },
  {
   "cell_type": "code",
   "execution_count": null,
   "id": "bf5c60c7",
   "metadata": {},
   "outputs": [],
   "source": [
    "class Bird:\n",
    "    def speak(self):\n",
    "        print(\"Every birds makes a different type of sounds\")\n",
    "        \n",
    "class Parrot(Bird):\n",
    "    def speak(self):\n",
    "        print(\"The parrot sound's \\\"cockatoos\\\" \")\n",
    "        \n",
    "class Penguin(Bird):\n",
    "    def speak(self):\n",
    "        print(\"The penguin sounds \\\"braying\\\" \")\n",
    "        \n",
    "# Outter Function\n",
    "def birds_speak(voice):\n",
    "    return voice.speak()\n",
    "            \n",
    "birds = Bird()\n",
    "parrot = Parrot()\n",
    "penguin = Penguin()\n",
    "\n",
    "print(birds.speak())\n",
    "print(parrot.speak())\n",
    "print(penguin.speak())\n",
    "\n",
    "birds_speak(parrot)\n"
   ]
  },
  {
   "cell_type": "markdown",
   "id": "b8c99295",
   "metadata": {},
   "source": [
    "15: Combining Single and Multiple Inheritance\n",
    "\n",
    "Create a base class named `Device` with an attribute `brand`. Create a derived class `Phone` that inherits from `Device` and adds an attribute `model`. Create another base class `Camera` with an attribute `resolution`. Create a derived class `Smartphone` that inherits from both `Phone` and `Camera`. Create an object of the `Smartphone` class and print its attributes."
   ]
  },
  {
   "cell_type": "code",
   "execution_count": null,
   "id": "2ebd9631",
   "metadata": {},
   "outputs": [],
   "source": [
    "class Device:\n",
    "    def __init__(self,brand):\n",
    "        self.brand = brand\n",
    "        \n",
    "class Phone(Device):\n",
    "    def __init__(self, brand,model):\n",
    "        super().__init__(brand)\n",
    "        self.model = model\n",
    "        \n",
    "class Camera:\n",
    "    def __init__(self,resolution):\n",
    "        self.resolution = resolution\n",
    "        \n",
    "class Smartphone(Phone,Camera):\n",
    "    def __init__(self, brand, model,resolution):\n",
    "        super().__init__(brand, model)\n",
    "        Camera.__init__(self,resolution)\n",
    "\n",
    "phone1 = Smartphone('Apple',16,'50px')\n",
    "\n",
    "print(f'The brand of mobile is {phone1.brand}, Model is {phone1.model} and, Camera resolution is {phone1.resolution}')"
   ]
  },
  {
   "cell_type": "code",
   "execution_count": null,
   "id": "f1b36e75",
   "metadata": {},
   "outputs": [],
   "source": []
  }
 ],
 "metadata": {
  "kernelspec": {
   "display_name": "venv",
   "language": "python",
   "name": "python3"
  },
  "language_info": {
   "codemirror_mode": {
    "name": "ipython",
    "version": 3
   },
   "file_extension": ".py",
   "mimetype": "text/x-python",
   "name": "python",
   "nbconvert_exporter": "python",
   "pygments_lexer": "ipython3",
   "version": "3.12.0"
  }
 },
 "nbformat": 4,
 "nbformat_minor": 5
}
