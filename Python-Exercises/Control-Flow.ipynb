{
 "cells": [
  {
   "cell_type": "markdown",
   "id": "314d0d62",
   "metadata": {},
   "source": [
    "Question 1: Simple if Statement\n",
    "\n",
    "Write a program that asks the user to input a number and prints whether the number is positive.\n"
   ]
  },
  {
   "cell_type": "code",
   "execution_count": null,
   "id": "001db3d5",
   "metadata": {},
   "outputs": [],
   "source": [
    "num = int(input(\"Enter number: \"))\n",
    "\n",
    "if num > 0:\n",
    "    print(\"The number is positive\")"
   ]
  },
  {
   "cell_type": "markdown",
   "id": "f09eeb12",
   "metadata": {},
   "source": [
    "Question 2: if-else Statement\n",
    "\n",
    "Write a program that asks the user to input a number and prints whether the number is positive or negative."
   ]
  },
  {
   "cell_type": "code",
   "execution_count": null,
   "id": "d93c5723",
   "metadata": {},
   "outputs": [],
   "source": [
    "num = int(input(\"Enter number: \"))\n",
    "\n",
    "if num > 0:\n",
    "    print(\"The number is positive.\")\n",
    "    \n",
    "else:\n",
    "    print(\"The number is negative.\")"
   ]
  },
  {
   "cell_type": "markdown",
   "id": "695816b4",
   "metadata": {},
   "source": [
    "Question 3: if-elif-else Statement\n",
    "\n",
    "Write a program that asks the user to input a number and prints whether the number is positive, negative, or zero.\n"
   ]
  },
  {
   "cell_type": "code",
   "execution_count": null,
   "id": "154f4e67",
   "metadata": {},
   "outputs": [],
   "source": [
    "num = int(input(\"Enter number: \"))\n",
    "\n",
    "if num > 0:\n",
    "    print(\"The number is positive.\")\n",
    "elif num < 0:\n",
    "    print(\"The number is negative.\")\n",
    "    \n",
    "elif num == 0:\n",
    "    print(\"It's zero\")"
   ]
  },
  {
   "cell_type": "markdown",
   "id": "0758d348",
   "metadata": {},
   "source": [
    "Question 4: Nested if Statement\n",
    "\n",
    "Write a program that asks the user to input a number and prints whether the number is positive and even, positive and odd, or negative."
   ]
  },
  {
   "cell_type": "code",
   "execution_count": null,
   "id": "170c578b",
   "metadata": {},
   "outputs": [],
   "source": [
    "# num = int(input(\"Enter number: \"))\n",
    "\n",
    "# if num > 0:\n",
    "#     print(\"Number is positive.\")\n",
    "#     if num%2==0:\n",
    "#         print(\"Number is even.\")\n",
    "#     else:\n",
    "#         print(\"Number is odd\")\n",
    "# else:\n",
    "#     print(\"The number is negative\")\n",
    "\n",
    "\n",
    "            # Second Method\n",
    "num = int(input(\"Enter number: \"))\n",
    "\n",
    "if num > 0:\n",
    "    if num%2==0:\n",
    "        print(\"The number is even and positive\")\n",
    "    else:\n",
    "        print(\"The number is odd and positive\")\n",
    "else:\n",
    "    print(\"The number is negative\")        \n",
    "\n"
   ]
  },
  {
   "cell_type": "markdown",
   "id": "4389d1dd",
   "metadata": {},
   "source": [
    "Loops"
   ]
  },
  {
   "cell_type": "markdown",
   "id": "587fd6df",
   "metadata": {},
   "source": [
    "Question 5: for Loop\n",
    "\n",
    "Write a program that prints all the numbers from 1 to 10 using a for loop."
   ]
  },
  {
   "cell_type": "code",
   "execution_count": null,
   "id": "e922c20c",
   "metadata": {},
   "outputs": [],
   "source": [
    "for i in range(1,11):\n",
    "    print(i)"
   ]
  },
  {
   "cell_type": "markdown",
   "id": "fbcd4118",
   "metadata": {},
   "source": [
    "Question 6: while Loop\n",
    "\n",
    "Write a program that prints all the numbers from 1 to 10 using a while loop."
   ]
  },
  {
   "cell_type": "code",
   "execution_count": null,
   "id": "9b45ee72",
   "metadata": {},
   "outputs": [],
   "source": [
    "count = 1\n",
    "while count <= 10:\n",
    "    print(count)\n",
    "    count = count + 1"
   ]
  },
  {
   "cell_type": "markdown",
   "id": "0490896e",
   "metadata": {},
   "source": [
    "Question 7: Nested Loops\n",
    "\n",
    "Write a program that prints a 5x5 grid of asterisks (*) using nested loops.\n"
   ]
  },
  {
   "cell_type": "code",
   "execution_count": null,
   "id": "cd687184",
   "metadata": {},
   "outputs": [],
   "source": [
    "for i in range(5):\n",
    "    for j in range(5):\n",
    "        print(\"*\", end=\" \")\n",
    "    print()"
   ]
  },
  {
   "cell_type": "markdown",
   "id": "59770138",
   "metadata": {},
   "source": [
    "Question 8: break Statement\n",
    "\n",
    "Write a program that asks the user to input numbers until they input 0. The program should print the sum of all the input numbers."
   ]
  },
  {
   "cell_type": "code",
   "execution_count": null,
   "id": "183b085d",
   "metadata": {},
   "outputs": [],
   "source": [
    "sum = 0\n",
    "\n",
    "while True:\n",
    "    number = int(input(\"Enter number (0 to stop): \"))\n",
    "    if number == 0:\n",
    "        break\n",
    "    sum += number\n",
    "print(f\"The sum of entered numbers is {sum}\")"
   ]
  },
  {
   "cell_type": "markdown",
   "id": "63ff6d31",
   "metadata": {},
   "source": [
    "Question 9: continue Statement\n",
    "\n",
    "Write a program that prints all the numbers from 1 to 10 except 5 using a for loop and continue statement."
   ]
  },
  {
   "cell_type": "code",
   "execution_count": null,
   "id": "261f9418",
   "metadata": {},
   "outputs": [],
   "source": [
    "for i in range(1,11):\n",
    "    if i == 5:\n",
    "        continue\n",
    "    print(i)"
   ]
  },
  {
   "cell_type": "markdown",
   "id": "70e285ec",
   "metadata": {},
   "source": [
    "Question 10: pass Statement\n",
    "\n",
    "Write a program that defines an empty function using the pass statement."
   ]
  },
  {
   "cell_type": "code",
   "execution_count": null,
   "id": "1dba0b05",
   "metadata": {},
   "outputs": [],
   "source": [
    "def empty_function():\n",
    "    pass\n",
    "\n",
    "empty_functio()"
   ]
  },
  {
   "cell_type": "markdown",
   "id": "49d254c3",
   "metadata": {},
   "source": [
    "Question 11: Combining Loops and Conditionals\n",
    "\n",
    "Write a program that asks the user to input a number and prints all the even numbers from 1 to that number using a for loop."
   ]
  },
  {
   "cell_type": "code",
   "execution_count": null,
   "id": "8b262b84",
   "metadata": {},
   "outputs": [],
   "source": [
    "num = int(input(\"Enter a number: \"))\n",
    "for i in range(1, num + 1):\n",
    "    if i % 2 == 0:\n",
    "        print(i)"
   ]
  },
  {
   "cell_type": "markdown",
   "id": "43615ae6",
   "metadata": {},
   "source": [
    " Question 12: Factorial Calculation\n",
    "\n",
    "Write a program that calculates the factorial of a number input by the user using a while loop.\n"
   ]
  },
  {
   "cell_type": "code",
   "execution_count": null,
   "id": "7c001f52",
   "metadata": {},
   "outputs": [],
   "source": [
    "number = int(input(\"Enter a number: \"))\n",
    "fact = 1\n",
    "count = 1\n",
    "while count <= number:\n",
    "    fact = fact * count\n",
    "    count = count + 1\n",
    "print(f\"The factorial of {number} is {fact}\")\n",
    "    "
   ]
  },
  {
   "cell_type": "markdown",
   "id": "9f62672d",
   "metadata": {},
   "source": [
    "Question 13: Sum of Digits\n",
    "\n",
    "Write a program that calculates the sum of the digits of a number input by the user using a while loop."
   ]
  },
  {
   "cell_type": "code",
   "execution_count": null,
   "id": "e06ebc45",
   "metadata": {},
   "outputs": [],
   "source": [
    "number = int(input(\"Enter a number: \"))\n",
    "sum = 0\n",
    "while count <= number:\n",
    "    digit = number%10\n",
    "    sum += digit\n",
    "    number = number // 10\n",
    "print(f\"The sum of numbers is {sum}\")"
   ]
  },
  {
   "cell_type": "markdown",
   "id": "936f4a21",
   "metadata": {},
   "source": [
    "Question 14: Prime Number Check\n",
    "\n",
    "Write a program that checks if a number input by the user is a prime number using a for loop."
   ]
  },
  {
   "cell_type": "code",
   "execution_count": null,
   "id": "7715faed",
   "metadata": {},
   "outputs": [],
   "source": [
    "number = int(input(\"Enter a number: \"))\n",
    "is_prime = True\n",
    "if number <= 1:\n",
    "    is_prime = False\n",
    "else:\n",
    "    for i in range(2, int(number ** 0.5) + 1):\n",
    "        if number % i == 0:\n",
    "            is_prime = False\n",
    "            break\n",
    "if is_prime:\n",
    "    print(f\"{number} is a prime number.\")\n",
    "else:\n",
    "    print(f\"{number} is not a prime number.\")"
   ]
  },
  {
   "cell_type": "markdown",
   "id": "fb53d191",
   "metadata": {},
   "source": [
    "Question 15: Fibonacci Sequence\n",
    "\n",
    "Write a program that prints the first n Fibonacci numbers, where n is input by the user."
   ]
  },
  {
   "cell_type": "code",
   "execution_count": 42,
   "id": "4cae7fc6",
   "metadata": {},
   "outputs": [
    {
     "name": "stdout",
     "output_type": "stream",
     "text": [
      "0\n",
      "1\n",
      "1\n",
      "2\n",
      "3\n",
      "5\n",
      "8\n"
     ]
    }
   ],
   "source": [
    "n = int(input(\"Enter a number: \"))\n",
    "a,b = 0,1\n",
    "count = 0\n",
    "while count < n:\n",
    "    print(a)\n",
    "    a,b = b,a+b\n",
    "    count = count+1"
   ]
  }
 ],
 "metadata": {
  "kernelspec": {
   "display_name": "venv",
   "language": "python",
   "name": "python3"
  },
  "language_info": {
   "codemirror_mode": {
    "name": "ipython",
    "version": 3
   },
   "file_extension": ".py",
   "mimetype": "text/x-python",
   "name": "python",
   "nbconvert_exporter": "python",
   "pygments_lexer": "ipython3",
   "version": "3.12.0"
  }
 },
 "nbformat": 4,
 "nbformat_minor": 5
}
