{
 "cells": [
  {
   "cell_type": "markdown",
   "id": "6c79cc55",
   "metadata": {},
   "source": [
    "1: Fibonacci Sequence with Memoization\n",
    "\n",
    "Define a recursive function to calculate the nth Fibonacci number using memoization. Test the function with different inputs."
   ]
  },
  {
   "cell_type": "code",
   "execution_count": null,
   "id": "972bda7d",
   "metadata": {},
   "outputs": [],
   "source": [
    "def fibonacci(n,memo ={}):\n",
    "    if n in memo:\n",
    "        return memo[n]\n",
    "    \n",
    "    if n <=1:\n",
    "        return n\n",
    "    \n",
    "    memo[n] = fibonacci(n - 1, memo) + fibonacci(n - 2, memo)\n",
    "    return memo[n]\n",
    "\n",
    "fibonacci(10)"
   ]
  },
  {
   "cell_type": "markdown",
   "id": "fd7823d0",
   "metadata": {},
   "source": [
    " 2: Function with Nested Default Arguments\n",
    "\n",
    "Define a function that takes two arguments, a and b, where b is a dictionary with a default value of an empty dictionary. The function should add a new key-value pair to the dictionary and return it. Test the function with different inputs.\n"
   ]
  },
  {
   "cell_type": "code",
   "execution_count": null,
   "id": "cb7efcaa",
   "metadata": {},
   "outputs": [],
   "source": [
    "def fun(a,b = None):\n",
    "    if b is None:\n",
    "        b = {}\n",
    "    b[a] = a**2\n",
    "    return b\n",
    "\n",
    "fun(2)"
   ]
  },
  {
   "cell_type": "markdown",
   "id": "b7525ac8",
   "metadata": {},
   "source": [
    "3: Function with Variable Keyword Arguments\n",
    "\n",
    "Define a function that takes a variable number of keyword arguments and returns a dictionary containing only those key-value pairs where the value is an integer. Test the function with different inputs.\n"
   ]
  },
  {
   "cell_type": "code",
   "execution_count": null,
   "id": "d9bf191e",
   "metadata": {},
   "outputs": [],
   "source": [
    "def int_value(**kwargs):\n",
    "    return {k:v for k,v in kwargs.items() if isinstance(v,int)}\n",
    "\n",
    "int_value(a=10,b=\"two\",c=5, d='three')\n",
    "\n"
   ]
  },
  {
   "cell_type": "markdown",
   "id": "8237560e",
   "metadata": {},
   "source": [
    "Function with Callback\n",
    "\n",
    "Define a function that takes another function as a callback and a list of integers. The function should apply the callback to each integer in the list and return a new list with the results. Test with different callback functions."
   ]
  },
  {
   "cell_type": "code",
   "execution_count": null,
   "id": "6af2d5c4",
   "metadata": {},
   "outputs": [],
   "source": [
    "def callback_func(callback,lst):\n",
    "    return [callback(x) for x in lst]\n",
    "\n",
    "callback_func(lambda x:x**2, lst = [1,2,3,4,5])"
   ]
  },
  {
   "cell_type": "markdown",
   "id": "b4f355a1",
   "metadata": {},
   "source": [
    " 5: Function that Returns a Function\n",
    "\n",
    "Define a function that returns another function. The returned function should take an integer and return its square. Test the returned function with different inputs."
   ]
  },
  {
   "cell_type": "code",
   "execution_count": null,
   "id": "1826d4ac",
   "metadata": {},
   "outputs": [],
   "source": [
    "def outer_function():\n",
    "    def inner_funtion(num):\n",
    "        return num**2\n",
    "    return inner_funtion\n",
    "\n",
    "square = outer_function()\n",
    "print(square(2))"
   ]
  },
  {
   "cell_type": "markdown",
   "id": "cb2260fc",
   "metadata": {},
   "source": [
    "6: Function with Decorators\n",
    "\n",
    "Define a function that calculates the time taken to execute another function. Apply this decorator to a function that performs a complex calculation. Test the decorated function with different inputs."
   ]
  },
  {
   "cell_type": "code",
   "execution_count": null,
   "id": "a476cf25",
   "metadata": {},
   "outputs": [],
   "source": [
    "import time\n",
    "\n",
    "def timing_decorator(func):\n",
    "    def wrapper(*args,**kwargs):\n",
    "        start_time = time.time()\n",
    "        result = func(*args,**kwargs)\n",
    "        end_time = time.time()\n",
    "        print(f\"Function {func.__name__} took {end_time - start_time} seconds to execute.\")\n",
    "        return result\n",
    "    return wrapper\n",
    "\n",
    "@timing_decorator\n",
    "def complex_func(n):\n",
    "    return sum(x**2 for x in range(n))\n",
    "complex_func(1000)"
   ]
  },
  {
   "cell_type": "markdown",
   "id": "7852027b",
   "metadata": {},
   "source": [
    "7: Higher-Order Function for Filtering and Mapping\n",
    "\n",
    "Define a higher-order function that takes two functions, a filter function and a map function, along with a list of integers. The higher-order function should first filter the integers using the filter function and then apply the map function to the filtered integers. Test with different filter and map functions.\n"
   ]
  },
  {
   "cell_type": "code",
   "execution_count": null,
   "id": "8516d1bc",
   "metadata": {},
   "outputs": [],
   "source": [
    "def filter_map(filter_func,map_func,lst):\n",
    "    return [map_func(x) for x in lst if filter_func(x)]\n",
    "\n",
    "print(filter_map(lambda x:x % 2==0,lambda x:x**2, lst=[1,2,3,4]))\n",
    "print(filter_map(lambda x:x>2,lambda x:x+1,lst=[2,3,4,5]))"
   ]
  },
  {
   "cell_type": "markdown",
   "id": "c84a1d85",
   "metadata": {},
   "source": [
    "8: Function Composition\n",
    "\n",
    "Define a function that composes two functions, f and g, such that the result is f(g(x)). Test with different functions f and g."
   ]
  },
  {
   "cell_type": "code",
   "execution_count": null,
   "id": "e5784201",
   "metadata": {},
   "outputs": [],
   "source": [
    "def compose(f,g):\n",
    "    return lambda x:f(g(x))\n",
    "\n",
    "f = lambda x: x+1\n",
    "g = lambda x: x*2\n",
    "h = compose(f,g)\n",
    "print(h(3))\n",
    "print(h(5))"
   ]
  },
  {
   "cell_type": "markdown",
   "id": "3220ed65",
   "metadata": {},
   "source": [
    "9: Partial Function Application\n",
    "\n",
    "Use the functools.partial function to create a new function that multiplies its input by 2. Test the new function with different inputs."
   ]
  },
  {
   "cell_type": "code",
   "execution_count": null,
   "id": "c0b6d2f1",
   "metadata": {},
   "outputs": [],
   "source": [
    "from functools import partial\n",
    "mulyply_by_2 =partial(lambda x,y: x*y,2) \n",
    "\n",
    "print(mulyply_by_2(3))"
   ]
  },
  {
   "cell_type": "markdown",
   "id": "2192b6b7",
   "metadata": {},
   "source": [
    "10: Function with Error Handling\n",
    "\n",
    "Define a function that takes a list of integers and returns their average. The function should handle any errors that occur (e.g., empty list) and return None in such cases. Test with different inputs.\n"
   ]
  },
  {
   "cell_type": "code",
   "execution_count": null,
   "id": "15eca514",
   "metadata": {},
   "outputs": [],
   "source": [
    "def average(lst):\n",
    "    try:\n",
    "        return sum(lst) / len(lst)\n",
    "    except ZeroDivisionError:\n",
    "        return None\n",
    "    \n",
    "average([1,2,3,4,5])\n",
    "            "
   ]
  },
  {
   "cell_type": "markdown",
   "id": "b51cf4c2",
   "metadata": {},
   "source": [
    "11: Function with Generators\n",
    "\n",
    "Define a function that generates an infinite sequence of Fibonacci numbers. Test by printing the first 10 numbers in the sequence."
   ]
  },
  {
   "cell_type": "code",
   "execution_count": null,
   "id": "1951214e",
   "metadata": {},
   "outputs": [],
   "source": [
    "def fibo_seq():\n",
    "    a,b = 0,1\n",
    "    while True:\n",
    "        yield a\n",
    "        a,b = b,a+b\n",
    "        \n",
    "fibo = fibo_seq()\n",
    "for _ in range(10):\n",
    "    print(next(fibo))"
   ]
  },
  {
   "cell_type": "markdown",
   "id": "f4a94158",
   "metadata": {},
   "source": [
    " 12: Currying\n",
    "\n",
    "Define a curried function that takes three arguments, one at a time, and returns their product. Test the function by providing arguments one at a time."
   ]
  },
  {
   "cell_type": "code",
   "execution_count": null,
   "id": "31191ec4",
   "metadata": {},
   "outputs": [],
   "source": [
    "def currying_product(a):\n",
    "    def take_b(b):\n",
    "        def take_c(c):\n",
    "            return a*b*c\n",
    "        return take_c\n",
    "    return take_b\n",
    "\n",
    "print(currying_product(2)(3)(4))\n",
    "\n",
    "# Update value\n",
    "f = currying_product(2)\n",
    "g =  f(5)\n",
    "print(g(3))"
   ]
  },
  {
   "cell_type": "markdown",
   "id": "8df1e848",
   "metadata": {},
   "source": [
    "13: Function with Context Manager\n",
    "\n",
    "Define a function that uses a context manager to write a list of integers to a file. The function should handle any errors that occur during file operations. Test with different lists."
   ]
  },
  {
   "cell_type": "code",
   "execution_count": null,
   "id": "a2107442",
   "metadata": {},
   "outputs": [],
   "source": [
    "def write_into_file(numbers,filename = 'new.txt'):\n",
    "    try:\n",
    "        with open(filename,'w') as f:\n",
    "            for num in numbers:\n",
    "                if not isinstance(num,int):\n",
    "                    raise ValueError(f\"{num} is not valid.\")\n",
    "                f.write(str(num) + \"\\n\")\n",
    "            print(f\"successfully written in {filename}\")\n",
    "    except Exception as e:\n",
    "        print(f\"error{e}\")\n",
    "write_into_file([1,2,3,4,5,6])"
   ]
  },
  {
   "cell_type": "markdown",
   "id": "fa1926de",
   "metadata": {},
   "source": [
    "14: Function with Multiple Return Types\n",
    "\n",
    "Define a function that takes a list of mixed data types (integers, strings, and floats) and returns three lists: one containing all the integers, one containing all the strings, and one containing all the floats. Test with different inputs.\n"
   ]
  },
  {
   "cell_type": "code",
   "execution_count": null,
   "id": "2148e786",
   "metadata": {},
   "outputs": [],
   "source": [
    "def seprate(numbers):\n",
    "    integers = []\n",
    "    floats = []\n",
    "    strings = []\n",
    "    \n",
    "    for num in numbers:\n",
    "        if isinstance(num,int):\n",
    "            integers.append(num)\n",
    "        if isinstance(num,float):\n",
    "            floats.append(num)\n",
    "        if isinstance(num,str):\n",
    "            strings.append(num)\n",
    "    return integers,floats,strings\n",
    "\n",
    "print(seprate([1,2,3,4.56,3.1,'aaditya','mike', 'bob']))\n",
    "    "
   ]
  },
  {
   "cell_type": "markdown",
   "id": "4ad06a4b",
   "metadata": {},
   "source": [
    " 15: Function with State\n",
    "\n",
    "Define a function that maintains state between calls using a mutable default argument. The function should keep track of how many times it has been called. Test by calling the function multiple times."
   ]
  },
  {
   "cell_type": "code",
   "execution_count": null,
   "id": "6951aea5",
   "metadata": {},
   "outputs": [],
   "source": [
    "def maintain_state(counter=[0]):\n",
    "    counter[0]+= 1\n",
    "    return f\"Total numbers of time executed {counter[0]}\"\n",
    "\n",
    "print(maintain_state())\n",
    "print(maintain_state())"
   ]
  },
  {
   "cell_type": "code",
   "execution_count": null,
   "id": "900f43c7",
   "metadata": {},
   "outputs": [],
   "source": []
  }
 ],
 "metadata": {
  "kernelspec": {
   "display_name": "venv",
   "language": "python",
   "name": "python3"
  },
  "language_info": {
   "codemirror_mode": {
    "name": "ipython",
    "version": 3
   },
   "file_extension": ".py",
   "mimetype": "text/x-python",
   "name": "python",
   "nbconvert_exporter": "python",
   "pygments_lexer": "ipython3",
   "version": "3.12.0"
  }
 },
 "nbformat": 4,
 "nbformat_minor": 5
}
