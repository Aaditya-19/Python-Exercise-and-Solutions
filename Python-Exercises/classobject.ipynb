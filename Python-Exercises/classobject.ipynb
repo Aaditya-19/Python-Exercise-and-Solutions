{
 "cells": [
  {
   "cell_type": "markdown",
   "id": "bb15cf31",
   "metadata": {},
   "source": [
    "1: Basic Class and Object Creation\n",
    "\n",
    "Create a class named `Car` with attributes `make`, `model`, and `year`. Create an object of the class and print its attributes."
   ]
  },
  {
   "cell_type": "code",
   "execution_count": null,
   "id": "a9cfdea8",
   "metadata": {},
   "outputs": [],
   "source": [
    "class Car:\n",
    "    def __init__(self,make,model,year):\n",
    "        self.make = make\n",
    "        self.model = model\n",
    "        self.year = year\n",
    "        \n",
    "car1=Car('BMW','X1',2023)\n",
    "print(f'Make:{car1.make}, Model:{car1.model} and Year:{car1.year}')"
   ]
  },
  {
   "cell_type": "markdown",
   "id": "a6ca7add",
   "metadata": {},
   "source": [
    "2: Methods in Class\n",
    "\n",
    "Add a method named `start_engine` to the `Car` class that prints a message when the engine starts. Create an object of the class and call the method."
   ]
  },
  {
   "cell_type": "code",
   "execution_count": null,
   "id": "0d69a878",
   "metadata": {},
   "outputs": [],
   "source": [
    "class Car:\n",
    "    def __init__(self,make,model,year):\n",
    "        self.make = make\n",
    "        self.model = model\n",
    "        self.year = year\n",
    "    \n",
    "    def start_engine(self):\n",
    "        print(f'{self.make} engine starts')\n",
    "        \n",
    "\n",
    "car1=Car('BMW','X1',2023)\n",
    "print(f'Make:{car1.make}, Model:{car1.model} and Year:{car1.year}')\n",
    "car1.start_engine()"
   ]
  },
  {
   "cell_type": "markdown",
   "id": "9ed48431",
   "metadata": {},
   "source": [
    "3: Class with Constructor\n",
    "\n",
    "Create a class named `Student` with attributes `name` and `age`. Use a constructor to initialize these attributes. Create an object of the class and print its attributes."
   ]
  },
  {
   "cell_type": "code",
   "execution_count": null,
   "id": "2318bfcc",
   "metadata": {},
   "outputs": [],
   "source": [
    "class Student:\n",
    "    def __init__(self,name,age):\n",
    "        self.name = name\n",
    "        self.age = age\n",
    "\n",
    "stu1 = Student('aaditya', 20)\n",
    "print(f\"Name:{stu1.name} and age:{stu1.age}\")"
   ]
  },
  {
   "cell_type": "markdown",
   "id": "800b6331",
   "metadata": {},
   "source": [
    "4: Class with Private Attributes\n",
    "\n",
    "Create a class named `BankAccount` with private attributes `account_number` and `balance`. Add methods to deposit and withdraw money, and to check the balance. Create an object of the class and perform some operations."
   ]
  },
  {
   "cell_type": "code",
   "execution_count": null,
   "id": "2a765355",
   "metadata": {},
   "outputs": [],
   "source": [
    "class BankAccount:\n",
    "    def __init__(self,account_number,balance):\n",
    "        self._account_number = account_number\n",
    "        self._balance = balance\n",
    "        \n",
    "    def deposite(self,amount):\n",
    "        self._balance+=amount\n",
    "        print(f'{amount} is deposited and new balance is {self._balance}')\n",
    "        \n",
    "    def withdraw(self,amount):\n",
    "        if amount>self._balance:\n",
    "            print('insufficient balance')\n",
    "        else:\n",
    "            self._balance-=amount\n",
    "            print(f'{amount} is deposited and new balance is {self._balance})')\n",
    "            \n",
    "    def check_balance(self):\n",
    "        return self._balance\n",
    "\n",
    "            \n",
    "owner1 = BankAccount(123456,5000)\n",
    "print(f'Account number:{owner1._account_number}, and balance:{owner1._balance}')\n",
    "owner1.deposite(1000)\n",
    "owner1.withdraw(10000)\n",
    "print(owner1.check_balance())"
   ]
  },
  {
   "cell_type": "markdown",
   "id": "ca735ed3",
   "metadata": {},
   "source": [
    "5: Class Inheritance\n",
    "\n",
    "Create a base class named `Person` with attributes `name` and `age`. Create a derived class named `Employee` that inherits from `Person` and adds an attribute `employee_id`. Create an object of the derived class and print its attributes.\n"
   ]
  },
  {
   "cell_type": "code",
   "execution_count": null,
   "id": "ea0de2fa",
   "metadata": {},
   "outputs": [],
   "source": [
    "class Person:\n",
    "    def __init__(self,name,age):\n",
    "        self.name = name\n",
    "        self.age = age\n",
    "        \n",
    "class Employee(Person):\n",
    "    def __init__(self, name, age,employee_id):\n",
    "        super().__init__(name, age)\n",
    "        self.employee_id = employee_id\n",
    "        \n",
    "emp1 = Employee('Aaditya', 23,123)\n",
    "print(f'Name:{emp1.name}, Age:{emp1.age}, Id:{emp1.employee_id}')"
   ]
  },
  {
   "cell_type": "markdown",
   "id": "40f897ad",
   "metadata": {},
   "source": [
    "6: Method Overriding\n",
    "\n",
    "In the `Employee` class, override the `__str__` method to return a string representation of the object. Create an object of the class and print it.\n"
   ]
  },
  {
   "cell_type": "code",
   "execution_count": null,
   "id": "40278e36",
   "metadata": {},
   "outputs": [],
   "source": [
    "class Employee(Person):\n",
    "    def __init__(self, name, age,employee_id):\n",
    "        super().__init__(name, age)\n",
    "        self.employee_id = employee_id\n",
    "    \n",
    "    def __str__(self):\n",
    "        return f'Employee(Name:{self.name}, Age:{self.age}, Employee_Id:{self.employee_id})'\n",
    "        \n",
    "emp1 = Employee('Aaditya', 23,123)\n",
    "# print(f'Name:{emp1.name}, Age:{emp1.age}, Id:{emp1.employee_id}')\n",
    "print(emp1)"
   ]
  },
  {
   "cell_type": "markdown",
   "id": "fca67b49",
   "metadata": {},
   "source": [
    "7: Class Composition\n",
    "\n",
    "Create a class named `Address` with attributes `street`, `city`, and `zipcode`. Create a class named `Person` that has an `Address` object as an attribute. Create an object of the `Person` class and print its address.\n"
   ]
  },
  {
   "cell_type": "code",
   "execution_count": null,
   "id": "bba5c638",
   "metadata": {},
   "outputs": [],
   "source": [
    "class Address:\n",
    "    def __init__(self,street,city,zipcode):\n",
    "        self.street = street\n",
    "        self.city = city\n",
    "        self.zipcode = zipcode\n",
    "        \n",
    "class Person:\n",
    "    def __init__(self,name,age,address):\n",
    "        self.name = name\n",
    "        self.age = age\n",
    "        self.address = address\n",
    "\n",
    "address = Address('21 xyz','U.K',2341)\n",
    "person = Person('Aaditya',20,address)\n",
    "print(person.address.street, person.address.city, person.address.zipcode)\n",
    "    "
   ]
  },
  {
   "cell_type": "markdown",
   "id": "c340af41",
   "metadata": {},
   "source": [
    "8: Class with Class Variables\n",
    "\n",
    "Create a class named `Counter` with a class variable `count`. Each time an object is created, increment the count. Add a method to get the current count. Create multiple objects and print the count."
   ]
  },
  {
   "cell_type": "code",
   "execution_count": null,
   "id": "4e7dd8a5",
   "metadata": {},
   "outputs": [],
   "source": [
    "class Counter:\n",
    "    count = 0\n",
    "    def __init__(self):\n",
    "        Counter.count+=1\n",
    "        \n",
    "    @classmethod\n",
    "    def get_count(cls):\n",
    "        return cls.count\n",
    "    \n",
    "coun1 = Counter()\n",
    "coun2 = Counter()\n",
    "print(Counter.get_count())"
   ]
  },
  {
   "cell_type": "markdown",
   "id": "fe5e546a",
   "metadata": {},
   "source": [
    "9: Static Methods\n",
    "\n",
    "Create a class named `MathOperations` with a static method to calculate the square root of a number. Call the static method without creating an object."
   ]
  },
  {
   "cell_type": "code",
   "execution_count": null,
   "id": "269c9f34",
   "metadata": {},
   "outputs": [],
   "source": [
    "import math\n",
    "\n",
    "class MathOperation:\n",
    "    @staticmethod\n",
    "    def sqrt(x):\n",
    "        return math.sqrt(x)\n",
    "\n",
    "print(MathOperation.sqrt(16))"
   ]
  },
  {
   "cell_type": "markdown",
   "id": "dabd82b4",
   "metadata": {},
   "source": [
    "10: Class with Properties\n",
    "\n",
    "Create a class named `Rectangle` with private attributes `length` and `width`. Use properties to get and set these attributes. Create an object of the class and test the properties.\n"
   ]
  },
  {
   "cell_type": "code",
   "execution_count": null,
   "id": "50fb7830",
   "metadata": {},
   "outputs": [],
   "source": [
    "class Rectangle:\n",
    "    def __init__(self,legnth,width):\n",
    "        self.legnth = legnth\n",
    "        self.width = width\n",
    "        \n",
    "    @property\n",
    "    def legnth(self):\n",
    "        return self._legnth\n",
    "    @legnth.setter\n",
    "    def legnth(self,legnth):\n",
    "        self._legnth = legnth\n",
    "    \n",
    "    @property\n",
    "    def width(self):\n",
    "        return self._width\n",
    "    \n",
    "    @width.setter\n",
    "    def width(self,width):\n",
    "        self._width = width\n",
    "        \n",
    "rect = Rectangle(10,5)\n",
    "print(rect.legnth,rect.width)"
   ]
  },
  {
   "cell_type": "markdown",
   "id": "3ff43590",
   "metadata": {},
   "source": [
    " 11: Abstract Base Class\n",
    "\n",
    "Create an abstract base class named `Shape` with an abstract method `area`. Create derived classes `Circle` and `Square` that implement the `area` method. Create objects of the derived classes and call the `area` method.\n"
   ]
  },
  {
   "cell_type": "code",
   "execution_count": null,
   "id": "048e796b",
   "metadata": {},
   "outputs": [],
   "source": [
    "from abc import ABC, abstractmethod\n",
    "\n",
    "class Shape:\n",
    "    @abstractmethod\n",
    "    def area(self):\n",
    "        pass\n",
    "class Circle:\n",
    "    def __init__(self,radius):\n",
    "        self.radius = radius\n",
    "        \n",
    "    def area(self):\n",
    "        return math.pi * self.radius**2\n",
    "    \n",
    "class Square:\n",
    "    def __init__(self,side):\n",
    "        self.side = side\n",
    "        \n",
    "    def area(self):\n",
    "        return self.side**2\n",
    "    \n",
    "circle = Circle(4)\n",
    "square = Square(2)\n",
    "print(circle.area())\n",
    "print(square.area())"
   ]
  },
  {
   "cell_type": "markdown",
   "id": "cde0ef0d",
   "metadata": {},
   "source": [
    "12: Operator Overloading\n",
    "\n",
    "Create a class named `Vector` with attributes `x` and `y`. Overload the `+` operator to add two `Vector` objects. Create objects of the class and test the operator overloading."
   ]
  },
  {
   "cell_type": "code",
   "execution_count": null,
   "id": "9815ff8c",
   "metadata": {},
   "outputs": [],
   "source": [
    "class Vector:\n",
    "    def __init__(self,x,y):\n",
    "        self.x = x\n",
    "        self.y = y\n",
    "        \n",
    "    def __add__(self,other):\n",
    "        return Vector(self.x + other.x, self.y+other.y)\n",
    "    \n",
    "    def __str__(self):\n",
    "        return f'Vector({self.x}, {self.y})'\n",
    "    \n",
    "v1 = Vector(2,3)\n",
    "v2 = Vector(4,5)\n",
    "v3 = v1+v2\n",
    "print(v3)\n",
    "    \n",
    "    \n",
    "        "
   ]
  },
  {
   "cell_type": "markdown",
   "id": "f80b6858",
   "metadata": {},
   "source": [
    "13: Class with Custom Exception\n",
    "\n",
    "Create a custom exception named `InsufficientBalanceError`. In the `BankAccount` class, raise this exception when a withdrawal amount is greater than the balance. Handle the exception and print an appropriate message."
   ]
  },
  {
   "cell_type": "code",
   "execution_count": null,
   "id": "057fa75d",
   "metadata": {},
   "outputs": [],
   "source": [
    "class InsufficientBalanceError(Exception):\n",
    "    pass\n",
    "\n",
    "class BankAccount:\n",
    "    def __init__(self,account_number,balance):\n",
    "        self._account_number = account_number\n",
    "        self._balance = balance\n",
    "        \n",
    "    def deposite(self,amount):\n",
    "        self._balance+=amount\n",
    "        print(f'{amount} is deposited and new balance is {self._balance}')\n",
    "        \n",
    "    def withdraw(self,amount):\n",
    "        if amount>self._balance:\n",
    "            raise InsufficientBalanceError('Insufficent balance')\n",
    "        else:\n",
    "            self._balance-=amount\n",
    "            print(f'{amount} is withdrawn and new balance is {self._balance}')\n",
    "            \n",
    "    def check_balance(self):\n",
    "        return self._balance\n",
    "\n",
    "            \n",
    "owner1 = BankAccount(123456,5000)\n",
    "print(f'Account number:{owner1._account_number}, and balance:{owner1._balance}')\n",
    "owner1.deposite(1000)\n",
    "try:\n",
    "    owner1.withdraw(10000)\n",
    "except InsufficientBalanceError as e:\n",
    "    print(e)\n",
    "\n"
   ]
  },
  {
   "cell_type": "markdown",
   "id": "b5c07daa",
   "metadata": {},
   "source": [
    "14: Class with Context Manager\n",
    "\n",
    "Create a class named `FileManager` that implements the context manager protocol to open and close a file. Use this class to read the contents of a file.\n"
   ]
  },
  {
   "cell_type": "code",
   "execution_count": null,
   "id": "f9b0791a",
   "metadata": {},
   "outputs": [],
   "source": [
    "class FileManager:\n",
    "    def __init__(self,filename,mode):\n",
    "        self.filename = filename\n",
    "        self.mode = mode\n",
    "    \n",
    "    def __enter__(self):\n",
    "        self.file = open(self.filename,self.mode)\n",
    "        return self.file\n",
    "     \n",
    "  \n",
    "    def __exit__(self, exc_type, exc_value, traceback):\n",
    "        self.file.close()\n",
    "        \n",
    "with FileManager('data.txt','r') as file:\n",
    "    content = file.read()\n",
    "    print(content)\n",
    "\n",
    "        "
   ]
  },
  {
   "cell_type": "markdown",
   "id": "a89fd888",
   "metadata": {},
   "source": [
    "15: Chaining Methods\n",
    "\n",
    "Create a class named `Calculator` with methods to add, subtract, multiply, and divide. Each method should return the object itself to allow method chaining. Create an object and chain multiple method calls.\n",
    "\n"
   ]
  },
  {
   "cell_type": "code",
   "execution_count": 5,
   "id": "3cbe5bfa",
   "metadata": {},
   "outputs": [
    {
     "name": "stdout",
     "output_type": "stream",
     "text": [
      "10\n"
     ]
    }
   ],
   "source": [
    "class Calculator:\n",
    "    def __init__(self,value = 0):\n",
    "        self.value = value\n",
    "        \n",
    "    def add(self,amount):\n",
    "        self.value+=amount\n",
    "        return self\n",
    "    \n",
    "    def subtract(self,amount):\n",
    "        self.value-=amount\n",
    "        return self\n",
    "        \n",
    "    def multiply(self,amount):\n",
    "        self.value*=amount\n",
    "        return self\n",
    "    \n",
    "    def divide(self,amount):\n",
    "        if amount != 0:\n",
    "            self.value/amount\n",
    "        else:\n",
    "            print('Cannot divide by zero')\n",
    "        return self\n",
    "    \n",
    "calc = Calculator()\n",
    "calc.add(10).subtract(5).multiply(2).divide(2)\n",
    "print(calc.value)"
   ]
  },
  {
   "cell_type": "code",
   "execution_count": null,
   "id": "cd724ece",
   "metadata": {},
   "outputs": [],
   "source": []
  }
 ],
 "metadata": {
  "kernelspec": {
   "display_name": "venv",
   "language": "python",
   "name": "python3"
  },
  "language_info": {
   "codemirror_mode": {
    "name": "ipython",
    "version": 3
   },
   "file_extension": ".py",
   "mimetype": "text/x-python",
   "name": "python",
   "nbconvert_exporter": "python",
   "pygments_lexer": "ipython3",
   "version": "3.12.0"
  }
 },
 "nbformat": 4,
 "nbformat_minor": 5
}
