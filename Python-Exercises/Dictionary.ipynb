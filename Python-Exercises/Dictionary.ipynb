{
 "cells": [
  {
   "cell_type": "markdown",
   "id": "307ce9c7",
   "metadata": {},
   "source": [
    "1: Creating and Accessing Dictionaries\n",
    "\n",
    "Create a dictionary with the first 10 positive integers as keys and their squares as values. Print the dictionary.\n"
   ]
  },
  {
   "cell_type": "code",
   "execution_count": null,
   "id": "af0cc6c9",
   "metadata": {},
   "outputs": [],
   "source": [
    "dict = {x:x**2 for x in range(1,11)}\n",
    "print(dict)"
   ]
  },
  {
   "cell_type": "markdown",
   "id": "2f97d389",
   "metadata": {},
   "source": [
    "2: Accessing Dictionary Elements\n",
    "\n",
    "Print the value of the key 5 and the keys of the dictionary created in Assignment 1."
   ]
  },
  {
   "cell_type": "code",
   "execution_count": null,
   "id": "65f35f59",
   "metadata": {},
   "outputs": [],
   "source": [
    "# Value of key 5\n",
    "print(dict[5])\n",
    "\n",
    "# keys of the dictionary\n",
    "print(dict.keys())"
   ]
  },
  {
   "cell_type": "markdown",
   "id": "d74bedaf",
   "metadata": {},
   "source": [
    "3: Dictionary Methods\n",
    "\n",
    "Add a new key-value pair (11, 121) to the dictionary created in Assignment 1 and then remove the key-value pair with key 1. Print the modified dictionary."
   ]
  },
  {
   "cell_type": "code",
   "execution_count": null,
   "id": "a7441a1c",
   "metadata": {},
   "outputs": [],
   "source": [
    "# Adding a new key-value pair\n",
    "dict[11]=121\n",
    "\n",
    "# Removing a key-value pair\n",
    "del dict[1]\n",
    "\n",
    "print(dict)"
   ]
  },
  {
   "cell_type": "markdown",
   "id": "1d1bfce2",
   "metadata": {},
   "source": [
    "4: Iterating Over Dictionaries\n",
    "\n",
    "Iterate over the dictionary created in Assignment 1 and print each key-value pair.\n"
   ]
  },
  {
   "cell_type": "code",
   "execution_count": null,
   "id": "acedda59",
   "metadata": {},
   "outputs": [],
   "source": [
    "for key,value in dict.items():\n",
    "    print(f\"{key}:{value}\")"
   ]
  },
  {
   "cell_type": "markdown",
   "id": "b7ceb296",
   "metadata": {},
   "source": [
    "5: Dictionary Comprehensions\n",
    "\n",
    "Create a new dictionary containing the cubes of the first 10 positive integers using a dictionary comprehension. Print the new dictionary.\n"
   ]
  },
  {
   "cell_type": "code",
   "execution_count": null,
   "id": "4f91aca0",
   "metadata": {},
   "outputs": [],
   "source": [
    "cubes = {i:i**3 for i in range(1,11)}\n",
    "print(cubes)"
   ]
  },
  {
   "cell_type": "markdown",
   "id": "10e31c62",
   "metadata": {},
   "source": [
    "6: Merging Dictionaries\n",
    "\n",
    "Create two dictionaries: one with keys as the first 5 positive integers and values as their squares, and another with keys as the next 5 positive integers and values as their squares. Merge these dictionaries into a single dictionary and print it.\n"
   ]
  },
  {
   "cell_type": "code",
   "execution_count": null,
   "id": "a44c2517",
   "metadata": {},
   "outputs": [],
   "source": [
    "dict1 = {x:x**2 for x in range(1,6)}\n",
    "dict2 = {y:y**2 for y in range(6,11)}\n",
    "merged_dict = {**dict1, **dict2}\n",
    "print(merged_dict)"
   ]
  },
  {
   "cell_type": "markdown",
   "id": "e8b6cd5d",
   "metadata": {},
   "source": [
    "7: Nested Dictionaries\n",
    "\n",
    "Create a nested dictionary representing a student with keys 'name', 'age', 'grades', where 'grades' is another dictionary with keys 'math', 'science', and 'english'. Print the nested dictionary.\n"
   ]
  },
  {
   "cell_type": "code",
   "execution_count": null,
   "id": "558c5ac0",
   "metadata": {},
   "outputs": [],
   "source": [
    "student = {\n",
    "    'name':'aaditya',\n",
    "    'age': 20,\n",
    "    'grades':{\n",
    "        'math':90,\n",
    "        'science':90,\n",
    "        'english':95\n",
    "    }\n",
    "}\n",
    "\n",
    "print(student['grades'])"
   ]
  },
  {
   "cell_type": "markdown",
   "id": "1fd7601f",
   "metadata": {},
   "source": [
    "8: Dictionary of Lists\n",
    "\n",
    "Create a dictionary where the keys are the first 5 positive integers and the values are lists containing the first 5 multiples of the key. Print the dictionary.\n"
   ]
  },
  {
   "cell_type": "code",
   "execution_count": null,
   "id": "42ceb923",
   "metadata": {},
   "outputs": [],
   "source": [
    "multiples = {i: [i*j for j in range(1,6)] for i in range(1,6)}\n",
    "print(multiples)"
   ]
  },
  {
   "cell_type": "markdown",
   "id": "657c8db0",
   "metadata": {},
   "source": [
    "9: Dictionary of Tuples\n",
    "\n",
    "Create a dictionary where the keys are the first 5 positive integers and the values are tuples containing the key and its square. Print the dictionary."
   ]
  },
  {
   "cell_type": "code",
   "execution_count": null,
   "id": "c2e06252",
   "metadata": {},
   "outputs": [],
   "source": [
    "squares = {i :(i, i**2) for i in range(1,6)}\n",
    "print(squares)"
   ]
  },
  {
   "cell_type": "markdown",
   "id": "799d4259",
   "metadata": {},
   "source": [
    " 10: Dictionary and List Conversion\n",
    "\n",
    "Create a dictionary with the first 5 positive integers as keys and their squares as values. Convert the dictionary to a list of tuples and print it."
   ]
  },
  {
   "cell_type": "code",
   "execution_count": null,
   "id": "9cf59634",
   "metadata": {},
   "outputs": [],
   "source": [
    "dict= {i:i**2 for i in range(1,6)}\n",
    "list_of_tuples = list(dict.items())\n",
    "print(list_of_tuples)"
   ]
  },
  {
   "cell_type": "markdown",
   "id": "666f57fe",
   "metadata": {},
   "source": [
    "11: Dictionary Filtering\n",
    "\n",
    "Create a dictionary with the first 10 positive integers as keys and their squares as values. Create a new dictionary containing only the key-value pairs where the key is even. Print the new dictionary."
   ]
  },
  {
   "cell_type": "code",
   "execution_count": null,
   "id": "4ec4b1d5",
   "metadata": {},
   "outputs": [],
   "source": [
    "d = {i:i**2 for i in range(1,11)}\n",
    "evens = {k:v for k,v in d.items() if k%2==0}\n",
    "print(evens)"
   ]
  },
  {
   "cell_type": "markdown",
   "id": "9ddaf444",
   "metadata": {},
   "source": [
    "12: Dictionary Key and Value Transformation\n",
    "\n",
    "Create a dictionary with the first 5 positive integers as keys and their squares as values. Create a new dictionary with keys and values swapped. Print the new dictionary."
   ]
  },
  {
   "cell_type": "code",
   "execution_count": null,
   "id": "dceb407d",
   "metadata": {},
   "outputs": [],
   "source": [
    "sqr = {i:i**2 for i in range(1,6)}\n",
    "swap = {v:k for k,v in sqr.items()}\n",
    "print(swap)"
   ]
  },
  {
   "cell_type": "markdown",
   "id": "6c4c8178",
   "metadata": {},
   "source": [
    "13: Default Dictionary\n",
    "\n",
    "Create a default dictionary where each key has a default value of an empty list. Add some elements to the lists and print the dictionary."
   ]
  },
  {
   "cell_type": "code",
   "execution_count": null,
   "id": "dc5ad39e",
   "metadata": {},
   "outputs": [],
   "source": [
    "from collections import defaultdict\n",
    "\n",
    "defaultdict = defaultdict(list)\n",
    "defaultdict['a'].append(1)\n",
    "defaultdict['a'].append(2)\n",
    "defaultdict['b'].append(3)\n",
    "print(defaultdict)"
   ]
  },
  {
   "cell_type": "markdown",
   "id": "4e9c6105",
   "metadata": {},
   "source": [
    "14: Counting with Dictionaries\n",
    "\n",
    "Write a function that takes a string and returns a dictionary with the count of each character in the string. Print the dictionary."
   ]
  },
  {
   "cell_type": "code",
   "execution_count": null,
   "id": "89f6437b",
   "metadata": {},
   "outputs": [],
   "source": [
    "def count_char(s):\n",
    "    count_dict = {}\n",
    "    for char in s:\n",
    "        count_dict[char] =  count_dict.get(char,0) +1\n",
    "    return count_dict\n",
    "    \n",
    "string = \"hello world\"\n",
    "print(count_char(string))\n",
    "    "
   ]
  },
  {
   "cell_type": "markdown",
   "id": "5f4ed894",
   "metadata": {},
   "source": [
    "15: Dictionary and JSON\n",
    "\n",
    "Create a dictionary representing a book with keys 'title', 'author', 'year', and 'genre'. Convert the dictionary to a JSON string and print it."
   ]
  },
  {
   "cell_type": "code",
   "execution_count": 32,
   "id": "e1075dbc",
   "metadata": {},
   "outputs": [
    {
     "name": "stdout",
     "output_type": "stream",
     "text": [
      "{\"title\": \"To Kill a Mockingbird\", \"author\": \"Harper Lee\", \"year\": 1960, \"genre\": \"Fiction\"}\n"
     ]
    }
   ],
   "source": [
    "import json\n",
    "\n",
    "book = {\n",
    "    'title': 'To Kill a Mockingbird',\n",
    "    'author': 'Harper Lee',\n",
    "    'year': 1960,\n",
    "    'genre': 'Fiction'\n",
    "}\n",
    "\n",
    "book_json = json.dumps(book)\n",
    "print(book_json)\n",
    "\n",
    "\n"
   ]
  },
  {
   "cell_type": "code",
   "execution_count": null,
   "id": "b0799529",
   "metadata": {},
   "outputs": [],
   "source": []
  }
 ],
 "metadata": {
  "kernelspec": {
   "display_name": "venv",
   "language": "python",
   "name": "python3"
  },
  "language_info": {
   "codemirror_mode": {
    "name": "ipython",
    "version": 3
   },
   "file_extension": ".py",
   "mimetype": "text/x-python",
   "name": "python",
   "nbconvert_exporter": "python",
   "pygments_lexer": "ipython3",
   "version": "3.12.0"
  }
 },
 "nbformat": 4,
 "nbformat_minor": 5
}
