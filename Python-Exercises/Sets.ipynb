{
 "cells": [
  {
   "cell_type": "markdown",
   "id": "74173c60",
   "metadata": {},
   "source": [
    "1: Creating and Accessing Sets\n",
    "\n",
    "Create a set with the first 10 positive integers. Print the set.\n"
   ]
  },
  {
   "cell_type": "code",
   "execution_count": null,
   "id": "3a6e33f3",
   "metadata": {},
   "outputs": [],
   "source": [
    "my_set = set(range(1,11))\n",
    "print(my_set)"
   ]
  },
  {
   "cell_type": "markdown",
   "id": "5392cd40",
   "metadata": {},
   "source": [
    "2: Adding and Removing Elements\n",
    "\n",
    "Add the number 11 to the set created in Assignment 1. Then remove the number 1 from the set. Print the modified set."
   ]
  },
  {
   "cell_type": "code",
   "execution_count": null,
   "id": "5b7650c9",
   "metadata": {},
   "outputs": [],
   "source": [
    "# Adding number 11 to the set\n",
    "my_set.add(11)\n",
    "\n",
    "# Removing number 1 from the set\n",
    "my_set.remove(1)\n",
    "\n",
    "# Printing the modified set\n",
    "print(my_set)"
   ]
  },
  {
   "cell_type": "markdown",
   "id": "3d1a032e",
   "metadata": {},
   "source": [
    "3: Set Operations\n",
    "\n",
    "Create two sets: one with the first 5 positive integers and another with the first 5 even integers. Perform and print the results of union, intersection, difference, and symmetric difference operations on these sets.\n"
   ]
  },
  {
   "cell_type": "code",
   "execution_count": null,
   "id": "0e6f1d73",
   "metadata": {},
   "outputs": [],
   "source": [
    "set1 = {1,2,3,4,5}\n",
    "set2 = {2,4,8,10,12}\n",
    "\n",
    "print(f\"The result of union operation is {set1.union(set2)}\")\n",
    "print(f\"The result of the intersection operation is {set1.intersection(set2)}\")\n",
    "print(f\"The result of the difference operation is {set1.difference(set2)}\")\n",
    "print(f\"The result of the symetric difference operation is {set1.symmetric_difference(set2)}\")"
   ]
  },
  {
   "cell_type": "markdown",
   "id": "a4241726",
   "metadata": {},
   "source": [
    "4: Set Comprehensions\n",
    "\n",
    "Create a new set containing the squares of the first 10 positive integers using a set comprehension. Print the new set."
   ]
  },
  {
   "cell_type": "code",
   "execution_count": null,
   "id": "295fccf2",
   "metadata": {},
   "outputs": [],
   "source": [
    "square_value = {num**2 for num in range(1,11)}\n",
    "print(square_value)"
   ]
  },
  {
   "cell_type": "markdown",
   "id": "dd432b93",
   "metadata": {},
   "source": [
    "5: Filtering Sets\n",
    "\n",
    "Create a new set containing only the even numbers from the set created in Assignment 1 using a set comprehension. Print the new set."
   ]
  },
  {
   "cell_type": "code",
   "execution_count": null,
   "id": "60a6a51a",
   "metadata": {},
   "outputs": [],
   "source": [
    "even = {i for i in my_set if i%2==0}\n",
    "print(even)"
   ]
  },
  {
   "cell_type": "markdown",
   "id": "b906c703",
   "metadata": {},
   "source": [
    "6: Set Methods\n",
    "\n",
    "Create a set with duplicate elements and remove the duplicates using set methods. Print the modified set."
   ]
  },
  {
   "cell_type": "code",
   "execution_count": null,
   "id": "27fc8cd2",
   "metadata": {},
   "outputs": [],
   "source": [
    "s = {1,2,3,3,4,4,5}\n",
    "unique_s = set(s)\n",
    "print(unique_s)"
   ]
  },
  {
   "cell_type": "markdown",
   "id": "713d72f5",
   "metadata": {},
   "source": [
    " 7: Subsets and Supersets\n",
    "\n",
    "Create two sets: one with the first 5 positive integers and another with the first 3 positive integers. Check if the second set is a subset of the first set and if the first set is a superset of the second set. Print the results."
   ]
  },
  {
   "cell_type": "code",
   "execution_count": null,
   "id": "bc6d5654",
   "metadata": {},
   "outputs": [],
   "source": [
    "s1 = set(range(1,6))\n",
    "s2 = set(range(1,4))\n",
    "\n",
    "# Checking if the second set is a subset of the first set.\n",
    "print(s1.issubset(s2))\n",
    "\n",
    "# Checking if the first set is a superset of the second set.\n",
    "print(s1.issuperset(s2))"
   ]
  },
  {
   "cell_type": "markdown",
   "id": "6659b008",
   "metadata": {},
   "source": [
    "8: Frozenset\n",
    "\n",
    "Create a frozenset with the first 5 positive integers. Print the frozenset."
   ]
  },
  {
   "cell_type": "code",
   "execution_count": null,
   "id": "7427c5e0",
   "metadata": {},
   "outputs": [],
   "source": [
    "fs = frozenset(range (1,6))\n",
    "print(fs)\n"
   ]
  },
  {
   "cell_type": "markdown",
   "id": "7b80d616",
   "metadata": {},
   "source": [
    "9: Set and List Conversion\n",
    "\n",
    "Create a set with the first 5 positive integers. Convert it to a list, append the number 6, and convert it back to a set. Print the resulting set."
   ]
  },
  {
   "cell_type": "code",
   "execution_count": null,
   "id": "3acdbf73",
   "metadata": {},
   "outputs": [],
   "source": [
    "set0 = set(range(1,6))\n",
    "print(set0)\n",
    "\n",
    "# Convrting set to a list\n",
    "lst = list(set0)\n",
    "\n",
    "# Appending value in the list\n",
    "lst.append(6)\n",
    "\n",
    "# Converting back to the list\n",
    "set0 = set(lst)\n",
    "\n",
    "print(set0)"
   ]
  },
  {
   "cell_type": "markdown",
   "id": "cb4569ac",
   "metadata": {},
   "source": [
    "10: Set and Dictionary\n",
    "\n",
    "Create a dictionary with set keys and integer values. Print the dictionary."
   ]
  },
  {
   "cell_type": "code",
   "execution_count": null,
   "id": "20aafdd9",
   "metadata": {},
   "outputs": [],
   "source": [
    "set_dict = {\n",
    "    \n",
    "    frozenset((1,2)) : 3,\n",
    "    frozenset((4,5)) : 9,\n",
    "    frozenset((7,8)) : 15\n",
    "}\n",
    "\n",
    "print(set_dict)"
   ]
  },
  {
   "cell_type": "markdown",
   "id": "fca212c0",
   "metadata": {},
   "source": [
    " 11: Iterating Over Sets\n",
    "\n",
    "Create a set and iterate over the elements, printing each element."
   ]
  },
  {
   "cell_type": "code",
   "execution_count": null,
   "id": "d37a20b9",
   "metadata": {},
   "outputs": [],
   "source": [
    "s = {1,2,3,4,5}\n",
    "for i in s:\n",
    "    print(i)"
   ]
  },
  {
   "cell_type": "markdown",
   "id": "7124ef70",
   "metadata": {},
   "source": [
    "12: Removing Elements from Sets\n",
    "\n",
    "Create a set and remove elements from it until it is empty. Print the set after each removal."
   ]
  },
  {
   "cell_type": "code",
   "execution_count": null,
   "id": "ba462820",
   "metadata": {},
   "outputs": [],
   "source": [
    "s = set(range(1,7))\n",
    "while s:\n",
    "    s.pop()\n",
    "    print(s)"
   ]
  },
  {
   "cell_type": "markdown",
   "id": "94b4cc29",
   "metadata": {},
   "source": [
    "13: Set Symmetric Difference Update\n",
    "\n",
    "Create two sets and update the first set with the symmetric difference of the two sets. Print the modified first set.\n"
   ]
  },
  {
   "cell_type": "code",
   "execution_count": null,
   "id": "9ef8bad4",
   "metadata": {},
   "outputs": [],
   "source": [
    "s1 = {1,2,3,4,5}\n",
    "s2 = {3,4,5,6,7}\n",
    "\n",
    "s1.symmetric_difference_update(s2)\n",
    "print(s1)"
   ]
  },
  {
   "cell_type": "markdown",
   "id": "f32a4528",
   "metadata": {},
   "source": [
    "14: Set Membership Testing\n",
    "\n",
    "Create a set and test if certain elements are present in the set. Print the results.\n"
   ]
  },
  {
   "cell_type": "code",
   "execution_count": null,
   "id": "8aa422f2",
   "metadata": {},
   "outputs": [],
   "source": [
    "s = {1,2,3,4,5}\n",
    "print(1 in s)\n",
    "print(5 in s)\n",
    "print(10 in s)"
   ]
  },
  {
   "cell_type": "markdown",
   "id": "387513be",
   "metadata": {},
   "source": [
    "15: Set of Tuples\n",
    "\n",
    "Create a set containing tuples, where each tuple contains two elements. Print the set."
   ]
  },
  {
   "cell_type": "code",
   "execution_count": null,
   "id": "5ee9516a",
   "metadata": {},
   "outputs": [],
   "source": [
    "tuple_set = {\n",
    "    (1,2), (3,4), (4,5)\n",
    "}\n",
    "\n",
    "print(tuple_set)"
   ]
  },
  {
   "cell_type": "code",
   "execution_count": null,
   "id": "ed8202cb",
   "metadata": {},
   "outputs": [],
   "source": []
  }
 ],
 "metadata": {
  "kernelspec": {
   "display_name": "venv",
   "language": "python",
   "name": "python3"
  },
  "language_info": {
   "codemirror_mode": {
    "name": "ipython",
    "version": 3
   },
   "file_extension": ".py",
   "mimetype": "text/x-python",
   "name": "python",
   "nbconvert_exporter": "python",
   "pygments_lexer": "ipython3",
   "version": "3.12.0"
  }
 },
 "nbformat": 4,
 "nbformat_minor": 5
}
