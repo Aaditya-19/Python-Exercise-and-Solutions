{
 "cells": [
  {
   "cell_type": "markdown",
   "id": "9bce506f",
   "metadata": {},
   "source": [
    " 1: Reading a File\n",
    "\n",
    "Write a function that reads the contents of a file named `sample.txt` and prints each line."
   ]
  },
  {
   "cell_type": "code",
   "execution_count": null,
   "id": "3ad244ba",
   "metadata": {},
   "outputs": [],
   "source": [
    "def read_file(filename):\n",
    "    with open(filename, 'r') as file:\n",
    "        content = file.read()\n",
    "        return(content)\n",
    "    \n",
    "print(read_file('sample.txt'))"
   ]
  },
  {
   "cell_type": "markdown",
   "id": "6f56a711",
   "metadata": {},
   "source": [
    "2: Writing to a File\n",
    "\n",
    "Write a function that writes a list of strings to a file named `output.txt`, with each string on a new line."
   ]
  },
  {
   "cell_type": "code",
   "execution_count": null,
   "id": "00c10e10",
   "metadata": {},
   "outputs": [],
   "source": [
    "def write_file(lst,filename):\n",
    "    with open(filename,'w') as file:\n",
    "        return file.writelines(lst)\n",
    "    \n",
    "lst = ['First line \\n', 'Second line \\n']\n",
    "print(write_file(lst,'output.txt'))"
   ]
  },
  {
   "cell_type": "markdown",
   "id": "bcb7b3f3",
   "metadata": {},
   "source": [
    "3: Copying a File\n",
    "\n",
    "Write a function that copies the contents of a file named `source.txt` to a new file named `destination.txt`."
   ]
  },
  {
   "cell_type": "code",
   "execution_count": null,
   "id": "179eb732",
   "metadata": {},
   "outputs": [],
   "source": [
    "def copy(source,destinstion):\n",
    "    with open(source,'r') as src:\n",
    "        with open(destinstion,'w') as dst:\n",
    "            dst.write(src.read())\n",
    "            \n",
    "print(copy('source.txt', 'destination.txt'))"
   ]
  },
  {
   "cell_type": "markdown",
   "id": "01163f83",
   "metadata": {},
   "source": [
    "4: Appending to a File\n",
    "\n",
    "Write a function that appends a given string to the end of a file named `log.txt`."
   ]
  },
  {
   "cell_type": "code",
   "execution_count": null,
   "id": "640000f2",
   "metadata": {},
   "outputs": [],
   "source": [
    "def append_file(content,filename):\n",
    "    with open(filename,'a') as file:\n",
    "        file.write(content)\n",
    "        \n",
    "content = \"Hello I like coding \\n\"\n",
    "print(append_file(content,'log.txt'))"
   ]
  },
  {
   "cell_type": "markdown",
   "id": "26cdd5a7",
   "metadata": {},
   "source": [
    "5: Counting Words in a File\n",
    "\n",
    "Write a function that reads the contents of a file named `document.txt` and returns the number of words in the file.\n"
   ]
  },
  {
   "cell_type": "code",
   "execution_count": null,
   "id": "1a112022",
   "metadata": {},
   "outputs": [],
   "source": [
    "def count_words(filename):\n",
    "    with open(filename,'r') as file:\n",
    "        count_words = sum(len(line.split()) for line in file)\n",
    "    return count_words\n",
    "\n",
    "print(count_words('log.txt'))"
   ]
  },
  {
   "cell_type": "markdown",
   "id": "cb796b17",
   "metadata": {},
   "source": [
    "6: Finding and Replacing Text\n",
    "\n",
    "Write a function that finds and replaces all occurrences of a given word in a file named `data.txt` with another word."
   ]
  },
  {
   "cell_type": "code",
   "execution_count": null,
   "id": "ece68de3",
   "metadata": {},
   "outputs": [],
   "source": [
    "def find_replace(filename,old_word,new_word):\n",
    "    with open(filename,'r') as file:\n",
    "        text = file.read()\n",
    "    text_replace = text.replace(old_word,new_word)\n",
    "    with open(filename,'w') as file:\n",
    "        file.write(text_replace)\n",
    "       \n",
    "\n",
    "print(find_replace('data.txt', 'the','a'))"
   ]
  },
  {
   "cell_type": "markdown",
   "id": "e9cab31b",
   "metadata": {},
   "source": [
    "7: Reading a File in Reverse\n",
    "\n",
    "Write a function that reads the contents of a file named `reverse.txt` and prints each line in reverse order."
   ]
  },
  {
   "cell_type": "code",
   "execution_count": null,
   "id": "8d197fb0",
   "metadata": {},
   "outputs": [],
   "source": [
    "def reverse_read(filename):\n",
    "    with open(filename,'r') as file:\n",
    "        content = file.readlines()\n",
    "    for line in reversed(content):\n",
    "        print(line.strip())\n",
    "        \n",
    "print(reverse_read('reversed.txt'))"
   ]
  },
  {
   "cell_type": "markdown",
   "id": "8d14b943",
   "metadata": {},
   "source": [
    "8: Counting Lines, Words, and Characters\n",
    "\n",
    "Write a function that reads the contents of a file named `stats.txt` and returns the number of lines, words, and characters in the file.\n"
   ]
  },
  {
   "cell_type": "code",
   "execution_count": null,
   "id": "06a2b658",
   "metadata": {},
   "outputs": [],
   "source": [
    "def count_lines_words_char(filename):\n",
    "    with open(filename,'r') as file:\n",
    "        lines = file.readlines()\n",
    "        \n",
    "        len_count = len(lines)\n",
    "        words_count = sum(len(line.split()) for line in lines)\n",
    "        char_count = sum(len(line) for line in lines)\n",
    "    return len_count,words_count,char_count\n",
    "\n",
    "print(count_lines_words_char('data.txt'))\n",
    "lines , words, characters = count_lines_words_char('data.txt')\n",
    "print(f\"lines:{lines}, words:{words}, characters:{characters}\")"
   ]
  },
  {
   "cell_type": "markdown",
   "id": "e69dc90f",
   "metadata": {},
   "source": [
    "9: Merging Multiple Files\n",
    "\n",
    "Write a function that merges the contents of multiple files into a single file named `merged.txt`.\n"
   ]
  },
  {
   "cell_type": "code",
   "execution_count": null,
   "id": "374eaf78",
   "metadata": {},
   "outputs": [],
   "source": [
    "def merge_file(file_lst,output_file = \"merge.txt\"):\n",
    "    with open(output_file, 'w') as outfile:\n",
    "        for filename in file_lst:\n",
    "            with open(filename , 'r') as infile:\n",
    "                outfile.write(infile.read())\n",
    "                \n",
    "    return f'file merged into {output_file}'\n",
    "\n",
    "files = ['data.txt','source.txt']\n",
    "print(merge_file(files,'merge.txt'))"
   ]
  },
  {
   "cell_type": "markdown",
   "id": "6ef93f2e",
   "metadata": {},
   "source": [
    "10: Splitting a Large File\n",
    "\n",
    "Write a function that splits a large file named `large.txt` into smaller files of 100 lines each."
   ]
  },
  {
   "cell_type": "code",
   "execution_count": null,
   "id": "91f722f4",
   "metadata": {},
   "outputs": [],
   "source": [
    "def split_line(filename,line_per_file):\n",
    "    with open(filename,'r') as file:\n",
    "        lines = file.readlines()\n",
    "    for i in range(0,len(lines),line_per_file):\n",
    "        with open(f'{filename}_part{i//line_per_file+1}.txt','w') as part_file:\n",
    "            part_file.writelines(lines[i:i+line_per_file])\n",
    "            \n",
    "print(split_line('data.txt',100))"
   ]
  },
  {
   "cell_type": "markdown",
   "id": "62c0b406",
   "metadata": {},
   "source": [
    "11: Creating a Log File\n",
    "\n",
    "Write a function that creates a log file named `activity.log` and writes log messages with timestamps.\n"
   ]
  },
  {
   "cell_type": "code",
   "execution_count": null,
   "id": "84cfb3ad",
   "metadata": {},
   "outputs": [],
   "source": [
    "import datetime\n",
    "def log_file(msg,filename = 'activity.log'):\n",
    "    time_stamp = datetime.datetime.now().isoformat()\n",
    "    with open(filename,'a') as file:\n",
    "        file.write(f'Time{time_stamp},message is {msg} \\n')\n",
    "        \n",
    "print(log_file('This is log file'))"
   ]
  },
  {
   "cell_type": "markdown",
   "id": "3cde585c",
   "metadata": {},
   "source": [
    "12: Binary File Operations\n",
    "\n",
    "Write a function that reads a binary file named `image.bin` and writes its contents to another binary file named `copy_image.bin`."
   ]
  },
  {
   "cell_type": "code",
   "execution_count": null,
   "id": "7de6f24a",
   "metadata": {},
   "outputs": [],
   "source": [
    "def binary_op(source,destination):\n",
    "    with open(source,'rb') as src:\n",
    "        with open(destination,'wb') as dest:\n",
    "            dest.write(src.read())\n",
    "            \n",
    "print(binary_op('image.bin','cpy_img.bin'))"
   ]
  },
  {
   "cell_type": "markdown",
   "id": "5574d2e3",
   "metadata": {},
   "source": [
    "13: CSV File Operations\n",
    "\n",
    "Write a function that reads a CSV file named `data.csv` and prints its contents as a list of dictionaries."
   ]
  },
  {
   "cell_type": "code",
   "execution_count": null,
   "id": "9ca36a59",
   "metadata": {},
   "outputs": [
    {
     "name": "stdout",
     "output_type": "stream",
     "text": [
      "[{'name': 'aaditya', 'age': '24'}]\n"
     ]
    }
   ],
   "source": [
    "import csv\n",
    "def csv_reader(filename):\n",
    "    with open(filename,'r') as file:\n",
    "        reader = csv.DictReader(file)\n",
    "        return list(reader)\n",
    "    \n",
    "print(csv_reader('data.csv'))"
   ]
  },
  {
   "cell_type": "markdown",
   "id": "a66c979c",
   "metadata": {},
   "source": [
    "14: JSON File Operations\n",
    "\n",
    "Write a function that reads a JSON file named `data.json` and prints its contents as a Python dictionary."
   ]
  },
  {
   "cell_type": "code",
   "execution_count": null,
   "id": "0bd2bb02",
   "metadata": {},
   "outputs": [],
   "source": [
    "import json\n",
    "def json_read(filename):\n",
    "    with open(filename,'r') as file:\n",
    "        reader = json.load(file)\n",
    "        return reader\n",
    "    \n",
    "print(json_read('data.json'))"
   ]
  },
  {
   "cell_type": "markdown",
   "id": "8382aa30",
   "metadata": {},
   "source": [
    "15: File Permission Handling\n",
    "\n",
    "Write a function that attempts to read a file named `protected.txt` and handles any permission errors gracefully by printing an error message."
   ]
  },
  {
   "cell_type": "code",
   "execution_count": 31,
   "id": "62eab86a",
   "metadata": {},
   "outputs": [
    {
     "name": "stdout",
     "output_type": "stream",
     "text": [
      "In a deep bosom of a deep bosom of York;\n",
      "Now is that am not shaped for made glorious wrinkled front;\n",
      "None\n"
     ]
    }
   ],
   "source": [
    "\n",
    "def permission(filename):\n",
    "    try:\n",
    "        with open(filename,'r') as file:\n",
    "            print(file.read())\n",
    "    except PermissionError as e:\n",
    "        print(f\"Permission error {e}\")\n",
    "        \n",
    "print(permission('data.txt'))\n"
   ]
  },
  {
   "cell_type": "code",
   "execution_count": null,
   "id": "f8ab0cb0",
   "metadata": {},
   "outputs": [],
   "source": []
  }
 ],
 "metadata": {
  "kernelspec": {
   "display_name": "venv",
   "language": "python",
   "name": "python3"
  },
  "language_info": {
   "codemirror_mode": {
    "name": "ipython",
    "version": 3
   },
   "file_extension": ".py",
   "mimetype": "text/x-python",
   "name": "python",
   "nbconvert_exporter": "python",
   "pygments_lexer": "ipython3",
   "version": "3.12.0"
  }
 },
 "nbformat": 4,
 "nbformat_minor": 5
}
